{
 "cells": [
  {
   "cell_type": "code",
   "execution_count": 1,
   "metadata": {},
   "outputs": [
    {
     "name": "stdout",
     "output_type": "stream",
     "text": [
      "         Unnamed: 0  Unnamed: 0.1\n",
      "count  29682.000000  29682.000000\n",
      "mean   14840.500000  18133.104002\n",
      "std     8568.599681  10356.416142\n",
      "min        0.000000      0.000000\n",
      "25%     7420.250000   9458.250000\n",
      "50%    14840.500000  17501.500000\n",
      "75%    22260.750000  27904.500000\n",
      "max    29681.000000  37455.000000\n"
     ]
    }
   ],
   "source": [
    "import pandas as pd\n",
    "import numpy as np\n",
    "df=pd.read_csv(\"dataset_with_amenities_splited.csv\",low_memory=False)\n",
    "print(df.describe())"
   ]
  },
  {
   "cell_type": "code",
   "execution_count": 2,
   "metadata": {},
   "outputs": [
    {
     "name": "stdout",
     "output_type": "stream",
     "text": [
      "Index(['Unnamed: 0', 'Unnamed: 0.1', '_type', 'additionalrooms', 'age',\n",
      "       'amenitiesavailable', 'amenitiesnot', 'area', 'balconies', 'bathroom',\n",
      "       'bhk', 'carpetarea', 'facing', 'floor', 'locality', 'neworold',\n",
      "       'opensides', 'overlooking', 'ownership', 'possesiondate', 'price',\n",
      "       'pricepersquare', 'projectname', 'roadfaceing', 'status', 'totalfloor',\n",
      "       'Lift Available', 'Car Parking', 'Power Backup', '24 X 7 Security',\n",
      "       'Children's play area', 'Vaastu Compliant', 'Club House', 'Gymnasium',\n",
      "       'Swimming Pool', 'Sports Facility', 'Indoor Games', 'Jogging Track',\n",
      "       'Maintenance Staff', 'Intercom', 'Golf Course', 'Cafeteria',\n",
      "       'Rain Water Harvesting', 'Staff Quarter', 'Multipurpose Room',\n",
      "       'Landscaped Gardens', 'Shopping Mall', 'School', 'Hospital', 'ATM',\n",
      "       'AC', 'Wardrobe', 'TV', 'Refrigerator', 'Sofa', 'Washing Machine',\n",
      "       'Wifi', 'Microwave', 'Dining Table', 'Gas connection', 'BED'],\n",
      "      dtype='object')\n"
     ]
    }
   ],
   "source": [
    "print(df.columns)"
   ]
  },
  {
   "cell_type": "code",
   "execution_count": 3,
   "metadata": {},
   "outputs": [
    {
     "name": "stdout",
     "output_type": "stream",
     "text": [
      "61\n"
     ]
    }
   ],
   "source": [
    "print(len(df.columns))"
   ]
  },
  {
   "cell_type": "code",
   "execution_count": 38,
   "metadata": {
    "collapsed": true
   },
   "outputs": [],
   "source": [
    "# removing a header from list of row"
   ]
  },
  {
   "cell_type": "code",
   "execution_count": 4,
   "metadata": {},
   "outputs": [
    {
     "name": "stdout",
     "output_type": "stream",
     "text": [
      "Unnamed: 0                int64\n",
      "Unnamed: 0.1              int64\n",
      "_type                    object\n",
      "additionalrooms          object\n",
      "age                      object\n",
      "amenitiesavailable       object\n",
      "amenitiesnot             object\n",
      "area                     object\n",
      "balconies                object\n",
      "bathroom                 object\n",
      "bhk                      object\n",
      "carpetarea               object\n",
      "facing                   object\n",
      "floor                    object\n",
      "locality                 object\n",
      "neworold                 object\n",
      "opensides                object\n",
      "overlooking              object\n",
      "ownership                object\n",
      "possesiondate            object\n",
      "price                    object\n",
      "pricepersquare           object\n",
      "projectname              object\n",
      "roadfaceing              object\n",
      "status                   object\n",
      "totalfloor               object\n",
      "Lift Available           object\n",
      "Car Parking              object\n",
      "Power Backup             object\n",
      "24 X 7 Security          object\n",
      "                          ...  \n",
      "Vaastu Compliant         object\n",
      "Club House               object\n",
      "Gymnasium                object\n",
      "Swimming Pool            object\n",
      "Sports Facility          object\n",
      "Indoor Games             object\n",
      "Jogging Track            object\n",
      "Maintenance Staff        object\n",
      "Intercom                 object\n",
      "Golf Course              object\n",
      "Cafeteria                object\n",
      "Rain Water Harvesting    object\n",
      "Staff Quarter            object\n",
      "Multipurpose Room        object\n",
      "Landscaped Gardens       object\n",
      "Shopping Mall            object\n",
      "School                   object\n",
      "Hospital                 object\n",
      "ATM                      object\n",
      "AC                       object\n",
      "Wardrobe                 object\n",
      "TV                       object\n",
      "Refrigerator             object\n",
      "Sofa                     object\n",
      "Washing Machine          object\n",
      "Wifi                     object\n",
      "Microwave                object\n",
      "Dining Table             object\n",
      "Gas connection           object\n",
      "BED                      object\n",
      "Length: 61, dtype: object\n"
     ]
    }
   ],
   "source": [
    "types = df.dtypes\n",
    "print(types)"
   ]
  },
  {
   "cell_type": "code",
   "execution_count": 5,
   "metadata": {},
   "outputs": [
    {
     "name": "stdout",
     "output_type": "stream",
     "text": [
      "count                      7318\n",
      "unique                        8\n",
      "top       1 rooms( pooja room )\n",
      "freq                       2551\n",
      "Name: additionalrooms, dtype: object\n"
     ]
    }
   ],
   "source": [
    "print(df['additionalrooms'].describe())"
   ]
  },
  {
   "cell_type": "code",
   "execution_count": 6,
   "metadata": {},
   "outputs": [
    {
     "name": "stdout",
     "output_type": "stream",
     "text": [
      "[nan '3 rooms( study room, servant room, pooja room )'\n",
      " '2 rooms( study room, pooja room )' '1 rooms( pooja room )'\n",
      " '1 rooms( servant room )' '1 rooms( study room )'\n",
      " '2 rooms( study room, servant room )'\n",
      " '2 rooms( servant room, pooja room )' 'additionalrooms']\n"
     ]
    }
   ],
   "source": [
    "#done\n",
    "print(df['additionalrooms'].unique())        # take away : here replace Nan with 0 rooms\n",
    "\n",
    "counter = 0\n",
    "for row in df.itertuples():                 \n",
    "    if  df.iloc[counter]['additionalrooms'] is pd.np.nan:\n",
    "        df.set_value(counter,'additionalrooms',str(0))   #null\n",
    "    counter += 1"
   ]
  },
  {
   "cell_type": "code",
   "execution_count": 7,
   "metadata": {},
   "outputs": [
    {
     "name": "stdout",
     "output_type": "stream",
     "text": [
      "hee\n",
      "['0' '3 rooms( study room, servant room, pooja room )'\n",
      " '2 rooms( study room, pooja room )' '1 rooms( pooja room )'\n",
      " '1 rooms( servant room )' '1 rooms( study room )'\n",
      " '2 rooms( study room, servant room )'\n",
      " '2 rooms( servant room, pooja room )' 'additionalrooms']\n"
     ]
    },
    {
     "data": {
      "text/plain": [
       "0                                                      0\n",
       "1                                                      0\n",
       "2                                                      0\n",
       "3                                                      0\n",
       "4                                                      0\n",
       "5                                                      0\n",
       "6                                                      0\n",
       "7                                                      0\n",
       "8        3 rooms( study room, servant room, pooja room )\n",
       "9                                                      0\n",
       "10                                                     0\n",
       "11                                                     0\n",
       "12                     2 rooms( study room, pooja room )\n",
       "13       3 rooms( study room, servant room, pooja room )\n",
       "14                                                     0\n",
       "15                                                     0\n",
       "16                                                     0\n",
       "17                                                     0\n",
       "18                                                     0\n",
       "19                                                     0\n",
       "20                                                     0\n",
       "21                                                     0\n",
       "22                                                     0\n",
       "23                                                     0\n",
       "24                                                     0\n",
       "25                                                     0\n",
       "26                                                     0\n",
       "27                                                     0\n",
       "28                                                     0\n",
       "29                                                     0\n",
       "                              ...                       \n",
       "29652                                                  0\n",
       "29653                                                  0\n",
       "29654                2 rooms( servant room, pooja room )\n",
       "29655                2 rooms( servant room, pooja room )\n",
       "29656                              1 rooms( pooja room )\n",
       "29657                2 rooms( servant room, pooja room )\n",
       "29658                              1 rooms( pooja room )\n",
       "29659                              1 rooms( pooja room )\n",
       "29660                2 rooms( servant room, pooja room )\n",
       "29661                              1 rooms( pooja room )\n",
       "29662                              1 rooms( pooja room )\n",
       "29663                              1 rooms( pooja room )\n",
       "29664                              1 rooms( pooja room )\n",
       "29665                              1 rooms( pooja room )\n",
       "29666                2 rooms( servant room, pooja room )\n",
       "29667                              1 rooms( pooja room )\n",
       "29668                              1 rooms( pooja room )\n",
       "29669                2 rooms( servant room, pooja room )\n",
       "29670                                                  0\n",
       "29671                                                  0\n",
       "29672                                                  0\n",
       "29673                                                  0\n",
       "29674                                                  0\n",
       "29675                                                  0\n",
       "29676                                                  0\n",
       "29677                                                  0\n",
       "29678                                                  0\n",
       "29679                                                  0\n",
       "29680                                                  0\n",
       "29681                                                  0\n",
       "Name: additionalrooms, Length: 29682, dtype: object"
      ]
     },
     "execution_count": 7,
     "metadata": {},
     "output_type": "execute_result"
    }
   ],
   "source": [
    "\n",
    "counter = 0\n",
    "for row in df.itertuples():                 \n",
    "    if  df.iloc[counter]['additionalrooms'] == 'additionalrooms':\n",
    "        df.drop(counter)\n",
    "        print('hee')\n",
    "    counter += 1\n",
    "print(df['additionalrooms'].unique()) \n",
    "df['additionalrooms'].astype(str)"
   ]
  },
  {
   "cell_type": "code",
   "execution_count": 8,
   "metadata": {},
   "outputs": [
    {
     "name": "stdout",
     "output_type": "stream",
     "text": [
      "count           22469\n",
      "unique             69\n",
      "top       6 - 7 years\n",
      "freq             2889\n",
      "Name: age, dtype: object\n",
      "\n",
      "\n",
      "['2 - 3 years' '0 - 1 year' '1 - 2 years' nan '6 - 7 years' '2 years'\n",
      " '3 - 4 years' '10 - 11 years' '7 - 8 years' '4 - 5 years' '5 - 6 years'\n",
      " '12 - 13 years' '11 - 12 years' '1 year' '17 years' '6 years' '12 years'\n",
      " '7 years' '20 years' '20 - 21 years' '9 - 10 years' '13 - 14 years'\n",
      " '19 - 20 years' '14 - 15 years' '15 years' '17 - 18 years' '8 - 9 years'\n",
      " '19 years' '25 years' '30 years' '3 years' '18 - 19 years' '26 - 27 years'\n",
      " '11 years' '21 - 22 years' '16 - 17 years' '15 - 16 years' '30 - 31 years'\n",
      " '28 - 29 years' '5 years' '4 years' '9 years' 'age' '10 years' '8 years'\n",
      " '13 years' '22 - 23 years' '18 years' '21 years' '22 years' '14 years'\n",
      " '16 years' '27 - 28 years' '28 years' '24 - 25 years' '25 - 26 years'\n",
      " '40 years' '37 - 38 years' '35 - 36 years' '35 years' '41 - 42 years'\n",
      " '29 - 30 years' '27 years' '31 - 32 years' '42 years' '33 - 34 years'\n",
      " '23 years' '32 - 33 years' '26 years' '23 - 24 years']\n"
     ]
    }
   ],
   "source": [
    "#done\n",
    "print(df['age'].describe())               # take away : here replace Nan with 0 years\n",
    "print(\"\\n\")\n",
    "print(df['age'].unique())\n",
    "\n",
    "counter = 0\n",
    "for row in df.itertuples():                 \n",
    "    if  df.iloc[counter]['age'] is pd.np.nan:\n",
    "        df.set_value(counter,'age','0 years') \n",
    "    counter += 1\n",
    "# normalize in 5 interval like 0 to 5   after 10 years"
   ]
  },
  {
   "cell_type": "code",
   "execution_count": 9,
   "metadata": {},
   "outputs": [
    {
     "name": "stdout",
     "output_type": "stream",
     "text": [
      "count           29668\n",
      "unique           2380\n",
      "top       1,000 sq ft\n",
      "freq              539\n",
      "Name: area, dtype: object\n",
      "\n",
      "\n",
      "['1,611 sq ft' '1,279 sq ft' '670 sq ft' ..., '5,898 sq ft' '2,776 sq ft'\n",
      " '362 sq ft']\n"
     ]
    }
   ],
   "source": [
    "#done\n",
    "print(df['area'].describe())          # take away : here replace Nan with  dropna or 1000\n",
    "print(\"\\n\")\n",
    "print(df['area'].unique())\n",
    "counter = 0\n",
    "for row in df.itertuples():                 \n",
    "    if  df.iloc[counter]['area'] is pd.np.nan:\n",
    "        df.set_value(counter,'area',-9999) \n",
    "    counter += 1\n",
    "#print(df['area'])"
   ]
  },
  {
   "cell_type": "code",
   "execution_count": 10,
   "metadata": {},
   "outputs": [
    {
     "name": "stdout",
     "output_type": "stream",
     "text": [
      "count     17726\n",
      "unique        9\n",
      "top           1\n",
      "freq       7632\n",
      "Name: balconies, dtype: object\n",
      "\n",
      "\n",
      "['2' nan '1' '3' '4' 'balconies' '6' '5' '8' '7']\n"
     ]
    }
   ],
   "source": [
    "#done\n",
    "print(df['balconies'].describe())     # take away : here replace Nan with 0\n",
    "print(\"\\n\")\n",
    "print(df['balconies'].unique())\n",
    "\n",
    "counter = 0\n",
    "for row in df.itertuples():                 \n",
    "    if  df.iloc[counter]['balconies'] is pd.np.nan:\n",
    "        df.set_value(counter,'balconies',0) \n",
    "    #df.iloc[counter]['balconies'] = int(df.iloc[counter]['balconies'])\n",
    "    counter += 1\n",
    "#print(df['balconies'])"
   ]
  },
  {
   "cell_type": "code",
   "execution_count": null,
   "metadata": {
    "collapsed": true
   },
   "outputs": [],
   "source": []
  },
  {
   "cell_type": "code",
   "execution_count": 11,
   "metadata": {},
   "outputs": [
    {
     "name": "stdout",
     "output_type": "stream",
     "text": [
      "count     27827\n",
      "unique       10\n",
      "top           2\n",
      "freq      10853\n",
      "Name: bathroom, dtype: object\n",
      "\n",
      "\n",
      "['3' '2' '1' '5' nan '4' '6' 'bathroom' '8' '7' '9']\n"
     ]
    }
   ],
   "source": [
    "#done\n",
    "print(df['bathroom'].describe())         # take away : here replace Nan with 1 bath\n",
    "print(\"\\n\")\n",
    "print(df['bathroom'].unique())\n",
    "\n",
    "counter = 0\n",
    "for row in df.itertuples():                 \n",
    "    if  df.iloc[counter]['bathroom'] is pd.np.nan:\n",
    "        df.set_value(counter,'bathroom',1) \n",
    "    counter += 1\n",
    "#print(df['bathroom'])"
   ]
  },
  {
   "cell_type": "code",
   "execution_count": 12,
   "metadata": {},
   "outputs": [
    {
     "name": "stdout",
     "output_type": "stream",
     "text": [
      "count                29681\n",
      "unique                  40\n",
      "top       2 BHK Apartment \n",
      "freq                 10871\n",
      "Name: bhk, dtype: object\n",
      "\n",
      "\n",
      "['3 BHK Apartment ' '2 BHK Apartment ' '1 BHK Apartment '\n",
      " '4 BHK Apartment ' ' Residential Plot ' '1 RK Apartment ' '3 BHK Villa '\n",
      " '5 BHK Villa ' '4 BHK Independent House ' '4 BHK Villa '\n",
      " '2 BHK Independent House ' '3 BHK Independent House '\n",
      " '3 BHK Independent Floor ' '1 BHK Villa ' '4 BHK penthouse '\n",
      " '3 BHK penthouse ' '5 BHK Apartment ' '1 BHK Independent Floor '\n",
      " '2 BHK penthouse ' '2 BHK Villa ' '2 BHK Independent Floor ' 'bhk'\n",
      " '8 BHK Villa ' '6 BHK Apartment ' '5 BHK Independent House '\n",
      " '1 BHK Independent House ' '1 BHK studio apartment ' '0 BHK Villa '\n",
      " '5 BHK penthouse ' '1 RK Independent House ' '6 BHK Villa '\n",
      " '6 BHK penthouse ' '5 BHK Independent Floor ' '4 BHK Independent Floor '\n",
      " '3 BHK Other Residential ' '6 BHK Independent Floor '\n",
      " '1 RK Independent Floor ' '7 BHK Independent House '\n",
      " '4 BHK Other Residential ' nan '7 BHK Apartment ']\n"
     ]
    }
   ],
   "source": [
    "# numeric or binary encoding                # Ask saurabh\n",
    "print(df['bhk'].describe())                     #All present\n",
    "print(\"\\n\")\n",
    "print(df['bhk'].unique())\n",
    "#Drop  Residential Plot ,'0 BHK Villa '   ********************************"
   ]
  },
  {
   "cell_type": "code",
   "execution_count": 13,
   "metadata": {},
   "outputs": [
    {
     "name": "stdout",
     "output_type": "stream",
     "text": [
      "count          6548\n",
      "unique         1232\n",
      "top       900 sq ft\n",
      "freq            113\n",
      "Name: carpetarea, dtype: object\n",
      "\n",
      "\n",
      "['1209 sq ft' nan '615 sq ft' ..., '3630 sq ft' '1316 sq ft' '2804 sq ft']\n"
     ]
    }
   ],
   "source": [
    "#still not replace nan values\n",
    "print(df['carpetarea'].describe())              # take away : here replace Nan with area - 10% of area\n",
    "print(\"\\n\")\n",
    "print(df['carpetarea'].unique())\n",
    "\n",
    "#counter = 0\n",
    "#for row in df.itertuples():                 \n",
    "#    if  df.iloc[counter]['carpetarea'] is pd.np.nan:\n",
    "#        df.set_value(counter,'carpetarea', df.iloc[counter]['area'] - (0.1 *  df.iloc[counter]['area'])) \n",
    "#    counter += 1\n",
    "#print(df['carpetarea'])"
   ]
  },
  {
   "cell_type": "code",
   "execution_count": 14,
   "metadata": {},
   "outputs": [
    {
     "name": "stdout",
     "output_type": "stream",
     "text": [
      "count     24751\n",
      "unique        9\n",
      "top        East\n",
      "freq      16513\n",
      "Name: facing, dtype: object\n",
      "\n",
      "\n",
      "['West' 'NorthEast' 'East' 'NorthWest' nan 'North' 'South' 'SouthEast'\n",
      " 'facing' 'SouthWest']\n"
     ]
    }
   ],
   "source": [
    "#category  one hot encoding or binary\n",
    "print(df['facing'].describe())               # take away : here replace Nan with Random\n",
    "print(\"\\n\")\n",
    "print(df['facing'].unique())\n",
    "\n",
    "counter = 0\n",
    "for row in df.itertuples():                 \n",
    "    if  df.iloc[counter]['facing'] is pd.np.nan:\n",
    "        df.set_value(counter,'facing','Random') \n",
    "    counter += 1\n",
    "#print(df['facing'])"
   ]
  },
  {
   "cell_type": "code",
   "execution_count": 15,
   "metadata": {},
   "outputs": [
    {
     "name": "stdout",
     "output_type": "stream",
     "text": [
      "count     25702\n",
      "unique       56\n",
      "top         3, \n",
      "freq       2315\n",
      "Name: floor, dtype: object\n",
      "\n",
      "\n",
      "['3, ' '1' '6, ' '2, ' '4, ' '1, ' '12, ' '14, ' nan '7, ' '10, ' '8, '\n",
      " '9, ' '11, ' '5, ' '16, ' '18, ' 'Gr ' '20, ' 'Gr' '6' '7' '5' '2' '3' '4'\n",
      " '9' '10' '13, ' '21, ' '22, ' '24, ' '25, ' '14' '8' '12' '11' 'floor'\n",
      " '15, ' '17, ' '19, ' '23, ' '18' '34, ' '13' '27, ' '17' '32, ' '15' '20'\n",
      " '31, ' '30, ' '16' '30' '19' '34' '26, ']\n"
     ]
    }
   ],
   "source": [
    "print(df['floor'].describe())             # take away : here replace Nan with 0\n",
    "print(\"\\n\")\n",
    "print(df['floor'].unique())\n",
    "\n",
    "counter = 0\n",
    "for row in df.itertuples():\n",
    "    if df.iloc[counter]['totalfloor'] == 'Gr':\n",
    "        df.set_value(counter,'totalfloor','0')       # 0 - Gr\n",
    "    if  df.iloc[counter]['floor'] is pd.np.nan:\n",
    "        df.set_value(counter,'floor',0) \n",
    "    counter += 1\n",
    "#print(df['floor'])"
   ]
  },
  {
   "cell_type": "code",
   "execution_count": 16,
   "metadata": {},
   "outputs": [
    {
     "name": "stdout",
     "output_type": "stream",
     "text": [
      "count       29681\n",
      "unique        503\n",
      "top       Kharadi\n",
      "freq         4327\n",
      "Name: locality, dtype: object\n",
      "\n",
      "\n",
      "['Deccan Gymkhana' 'Kharadi' 'Sus' 'Bavdhan' 'Mundhwa' 'Viman Nagar'\n",
      " 'Baner' 'Law collage Road' 'Mahalunge' 'Bhukum' 'Hinjewadi' 'Hadapsar'\n",
      " 'Hadapsar Gaon' 'Sasane Nagar' 'NIBM Annex Mohammadwadi' 'Salunke Vihar'\n",
      " 'NIBM' 'Wagholi' 'Pimpri' 'Kondhwa' 'Undri' 'Bibwewadi' 'Manjari'\n",
      " 'Uday Baug' 'Ganesh Nagar' 'Kale Padal' 'Baner Pashan Link Road'\n",
      " 'Model Colony' 'Bhawani Peth' 'Erandwane' 'Kothrud' 'Wanowrie' 'Wakad'\n",
      " 'Balewadi High Street' 'Prabhat Road' 'Pashan' 'Ghole Road' 'Moshi'\n",
      " 'Bhugaon' 'Shivaji Nagar' 'Karve Nagar' 'Senapati Bapat Road' 'Rahatani'\n",
      " 'Bopodi' 'Balewadi' 'Fergusson College Road' 'Bhandarkar Road' 'NIBM Road'\n",
      " 'Pimple Saudagar' 'Ravet' 'Talegaon Dabhade' 'Sahakar Nagar II'\n",
      " 'Koregaon Park' 'Nere' 'Pisoli' 'Bhoslenagar' 'NIBM Annexe' 'Akurdi'\n",
      " 'Aundh Gaon' 'Kalyani Nagar' 'Wadgaon Sheri' 'Aundh' 'Veerbhadra Nagar'\n",
      " 'Mulshi' 'Magarpatta' 'Vishrantwadi' 'Sanewadi' 'Phursungi'\n",
      " 'Pimple Nilakh' 'Keshav Nagar' 'Aundh Annexe' 'Kondwa khurd road'\n",
      " 'Mahadev Nagar' 'Uruli Devachi' 'Baif Road' 'Jejuri' 'Katraj'\n",
      " 'Khed Shivapur' 'Bhor' 'Handewadi Road' 'Uruli Kanchan' 'Chandkhed' 'Loni'\n",
      " 'Mayureshwar' 'Saswad' 'wadebolhai' 'Varale' 'Mahabaleshwar'\n",
      " 'Lonavala Road' 'Loni Kalbhor' 'Wakad road' 'Wanwadi' 'VIT College Road'\n",
      " 'Dhanori Road' 'Vadgaon Sheri' 'Kedagaon' 'Baramati' 'Fatima Nagar'\n",
      " 'Sopan Baug' 'ITI road' 'bhekarai nagar' 'Handewadi' 'Camp'\n",
      " 'Bhusari colony left' 'Lulla Nagar' 'Anand Park' 'Dhayari' 'Warje'\n",
      " 'Ranjangaon' 'Bhusari colony right' 'Bhosle Nagar' 'Ashok Nagar'\n",
      " 'Tathawade' 'Magarpatta Road' 'Salisbury Park' 'Parihar Chowk' 'Gahunje'\n",
      " 'Baner Road' 'Kondhwa Budruk' 'Ambedkar Nagar' 'Mohamadwadi'\n",
      " 'Kothrud Depot Road' 'Boat Club Road' 'Chinchwad' 'Happy Colony Lane'\n",
      " 'Talegaon' 'Badhan Nagar' 'Ambegaon Budruk' 'Thergaon' 'locality'\n",
      " 'Yerawada' 'Sangamvadi' 'Kirkatwadi' 'Lohegaon' 'Bund Garden'\n",
      " 'Dhanukar Colony' 'Pimple Gurav' 'Sus Gaon' 'Dhole Patil Road'\n",
      " 'Pune Solapur Road' 'Old Sanghvi' 'Shastri Nagar' 'Sadashiv Peth'\n",
      " 'Dhanori' 'Kalyani Nagar Annexe' 'Shewalewadi' 'Morewadi' 'Airport Road'\n",
      " 'Chikhali' 'Punawale' 'Bhumkar Nagar' 'Wakadkar Wasti' 'Kaspate Vasti'\n",
      " 'Bhujbal Vasti' 'Rasikwadi' 'Tingre Nagar' 'pimprigaon' 'New Sanghvi'\n",
      " 'Pancard Club Road' 'Mamurdi' 'Sholapur Road' 'Maval' 'Ubale Nagar'\n",
      " 'Narhe' 'Hadapsar Fursungi Road' 'Kalewadi Main' 'Nigdi'\n",
      " 'Dhayari Ganesh Nagar' 'Siddharth nagar' 'Dhayari Phata' 'Pashan Sus Road'\n",
      " 'Loni Raiway Station Road' 'Bakori Road' 'Pune Mumbai Highway'\n",
      " 'PuneSolapur Highway' 'Ambegaon Bk' 'Manik Baug' 'Panchgani Wai Road'\n",
      " 'Bhau Patil Road' 'Kirti Nagar' 'Shankar Kalat Nagar'\n",
      " 'bavdhan patil nagar' 'bhusari colony' 'Bhosari' 'katraj kondhwa road'\n",
      " 'Vadgaon Budruk' 'Undri Hadapsar Road' 'Parvati'\n",
      " 'Moshi Pradhikaran PimpriChinchwad' 'Warje Malwadi' 'Tanaji Nagar'\n",
      " 'Bibwewadi Kondhwa Road' 'Pirangut' 'Manjari Budruk' 'Shikrapur'\n",
      " 'Nasrapur' 'Pune Satara Road' 'Charholi Budruk' 'Giridhar Nagar' 'Chakan'\n",
      " 'Pune Mumbai Expressway' 'Sinhgad Road' 'Narhe Gaon' 'Saswad Road'\n",
      " 'Kasarwadi' 'Gokul Nagar' 'Marunji' 'Karve Road' 'Talegaon Dhamdhere'\n",
      " 'Manchar' 'Koregaon Park Annexe' 'Lohegaon Road'\n",
      " 'Jejuri Saswad Hadapsar Road' 'Market yard' 'Nandel Fata Pune'\n",
      " 'Aundh Baner Link Road' 'Alandi' 'Marunji Road' 'Kharabwadi'\n",
      " 'Nanded City Sinhgad Road' 'Deep Bunglow chawk' 'Shivapur' 'Jambhul'\n",
      " 'Mayur Colony' 'Tukaram Nagar' 'Mumbai Pune Highway' 'Malwadi Hadapsar'\n",
      " 'Kiwale' 'DhanoriLohegaon Road' 'Parvati Darshan'\n",
      " 'Hadapsar Handewadi road' 'Ambegaon Khurd' 'Hinjewadi Marunji Road'\n",
      " 'hingne Khurd' 'EON Free Zone' 'Balaji Nagar' 'Bhavani Peth'\n",
      " 'Sahakar Nagar' 'Dighi' 'Koregaon Bhima' 'Manik Bagh' 'sinhagad road'\n",
      " 'Sector No1 Bhosari' 'Lonikand' 'Parkhe Vasti' 'Dehu Road' 'Kalewadi'\n",
      " 'Ambe Gaon' 'Kasarsai' 'Kanhe' 'NDA Pashan Road' 'Tulaja Bhawani Nagar'\n",
      " 'Pragati Nagar' 'kesnand' 'Pune Mumbai Road' 'Guru Nanak Nagar'\n",
      " 'Kudale Baug' 'Baner Balewadi road' 'Dehu' 'Nilgiri Lane' 'Bakhori'\n",
      " 'Gajanan Nagar' 'Kondhawe Dhawade' 'Indrayani Nagar Sector 2' 'Sanaswadi'\n",
      " 'Shivane' 'Balewadi Road' 'Aditya Birla Hospital Marg' 'BT Kawde'\n",
      " 'Panshet Ghol Road' 'Rasta Peth' 'bibvewadi' 'Ghodegaon'\n",
      " 'Jambhulwadi Road' 'Someshwarwadi' 'Benkar Nagar' 'Somatane Phata'\n",
      " 'Kondhwa Khurd' 'Panshet' 'DY Patil Road' 'Yewalewadi' 'Porwal Road'\n",
      " 'Paud Rd' 'Pune Nagar Road' 'Shahunagar' 'BT Kawade Road' 'Khandala'\n",
      " 'Pune Pandharpur Road' 'Moraya Ganapati Mandir Road' 'Shiv Colony'\n",
      " 'Satara road' 'Medankarwadi' 'Manjri Village Road' 'khamboli'\n",
      " 'charholi Khurd' 'Chinchwad Gaon Road' 'Shirur' 'Mangdewadi'\n",
      " 'Madhav Nagar' 'Dapodi' 'Daund' 'Chinchwad Station Road' 'Sinhagad Fort'\n",
      " 'Chikali Road' 'Lavasa' 'Wadki' 'Raigad District' 'Hinjewadi Phase 1'\n",
      " 'konark avenue 9' 'Navi Peth' 'Ambegaon Road' 'Parvati Gaon'\n",
      " 'Pimpri Chinchwad' 'Kalwad Area' 'Bund Garden Road' 'Pradhikaran Nigdi'\n",
      " 'Ambegaon Pathar' 'Kamshet' 'Sun City Road' 'Bhairav Nagar' 'Bebadohal'\n",
      " 'Rihe' 'Kondhwa Bk' 'Sus Road' 'Karjat Kashele Khandas Road' 'Sathe Wasti'\n",
      " 'Mangaon' 'Walha Railway StationSukalwadi Road' 'Tadiwala Road'\n",
      " 'Parandwadi Road' 'Rahatani Rajgad Colony' 'Dange Chowk Road'\n",
      " 'New DP Road' 'Aundh Road' 'Hanuman Nagar' 'Perugate' 'Swaraj Nagari'\n",
      " 'Vadgaon Maval' 'Pune Station' 'Wadgaon Shinde Road' 'Sakore Nagar'\n",
      " 'Mundhwa Manjari Road' 'Wakad Chowk Road' 'Yavat' 'Nana Peth'\n",
      " 'Alandi Road' 'Kasar Amboli' 'Vishal Nagar' 'Tukai Darshan'\n",
      " 'Keshav Nagar Road' 'Sanjay Park' 'Urbangram Kirkatwadi Road'\n",
      " 'Thite Nagar' 'NIBM Post Office Road' 'pune saswad road'\n",
      " 'Nilanjali Society' 'Sant Nagar Lohegoan' 'Anand Nagar' 'Phaltan'\n",
      " 'Kanhephata' 'Satavwadi' 'MulshiPaud Road' 'Pune Bengaluru Highway'\n",
      " 'Dhanakwadi' 'Raje Shivaji Nagar PimpriChinchwad' 'Mangaldas Road'\n",
      " 'Burhani Colony Road' 'Manohar Nagar' 'Swargate' 'Katarkhadak'\n",
      " 'Trimurti Vihar' 'paud' 'Pathare Vasti Road' 'Chintamani nagar'\n",
      " 'Kamgar Nagar PimpriChinchwad' 'Chincholi Dehu Road' 'Nighoje'\n",
      " 'Yashwant nagar' 'Kendriya Vihar Road PimpriChinchwad'\n",
      " 'Wakad Hinjewadi Road' 'Dattanagar' 'Magarpatta City' 'Omkar Colony Road'\n",
      " 'Shankar Sheth Road' 'Kunal Icon Road' 'Nanded Phata'\n",
      " 'Pimpri Kalewadi Link Road' 'Kalas'\n",
      " 'Kumar aangan society opposite shah hospital Yerwada Pune 411006'\n",
      " 'Hadapsar Saswad Jejuri Road'\n",
      " 'Chikhali Pimpri Chinchwad New Town Development Authority' 'Shirwal'\n",
      " 'Nigdi Sector 21' 'Vighnaharta Nagar' 'Old Mumbai Pune Highway'\n",
      " 'Bijali Nagar PimpriChinchwad' 'Ghorpadi' 'Hinjawadi Phase 3'\n",
      " 'Kedgaon Station Road' 'Somwar Peth' 'Khandve Nagar' 'khese park'\n",
      " 'Talwade' 'Kurkum MIDC' 'Mangal Nagar' 'Nehru Nagar' 'Papde Wasti'\n",
      " 'Kambre Kd Deshmukhwadi Road' 'Nagpur Chal' 'Ajmera colony' 'New Sangavi'\n",
      " 'Krishnanagar Road' 'Sunita Nagar' 'Chakan Talegaon Road'\n",
      " 'Vastu Udyog Road' 'Jambhulwadi' 'Dattavadi' 'Chikhali Road' 'Narhe Road'\n",
      " 'north hadapsar' 'Gadital' 'National Highway 48' 'Dhankawadi Road'\n",
      " 'Sun City' 'Pratik Nagar' 'Sukhsagar Nagar' 'Kad Nagar' 'Phase 3 Pune'\n",
      " 'Wadgaon Budruk' 'Laxmi Nagar' 'Bavdhan Khurd' 'PuneSatara Road' 'Bopkhel'\n",
      " 'Baner Gaon' 'Varanasi Society Internal Road' 'Guruwar Peth' 'hinjawadi'\n",
      " 'Askarwadi' 'Devachi Urli' 'Pune Link Road' 'Vijay Nagar'\n",
      " 'Ganeshkhind Road' 'Kolhewadi' nan 'Hinjewadi Phase 2'\n",
      " 'Gera Emerald City Road' 'DSK Road' 'Bhumkar Bridge'\n",
      " 'Hinjewadi Phase 2 Road' 'Malwadi' 'Satar Nagar' 'Pargaon'\n",
      " 'Naigaon Peth Road' 'Manjari Khurd' 'Wadagaon Road' 'Kolwadi'\n",
      " 'Raikar Mala Road' 'Hadapsar Tukai Nagar' 'Padmavati' 'Nanded'\n",
      " 'MIT College Road' 'panchwati' 'Dombewadi Road' 'Gulab Nagar Pune'\n",
      " 'wanwari' 'Mukund Nagar' 'Bharati Vidyapeeth' 'Gultekdi' 'karvenagar'\n",
      " 'Shankarseth Road' 'Indira Nagar' 'Purnanagar' 'shahu nagar'\n",
      " 'NIBM Junction' 'Walvekar Nagar' 'Shukrawar Peth' 'SHIVAJI HSG SOC'\n",
      " 'Pingale Wasti' 'JM Road' 'Mohammed wadi' 'Pan Card Road' 'Theur'\n",
      " 'Upper Indira Nagar' 'Samarth Colony' 'Ram Nagar' 'Ingawale Nagar'\n",
      " 'Tungarli' 'Patwardhan Baug Road' 'Baner Highway Side Road'\n",
      " 'Lokmanya Nagar' 'DSK Vishwa Road' 'Meeta Nagar' 'Mahatma Society'\n",
      " 'Kedari Nagar' 'Amanora Park Town' 'Gujarat Colony Road' 'Old Mumbai Road'\n",
      " 'Kothrud Bus Stand Road' 'Pimple Nilakh Road' 'Laxman Nagar'\n",
      " 'Law College Rd' 'Shedge Vasti PimpriChinchwad'\n",
      " 'Bhatewara Nagar Chinchwad' 'Mohan Nagar']\n"
     ]
    }
   ],
   "source": [
    "# encode using binary\n",
    "print(df['locality'].describe())         #All present  \n",
    "print(\"\\n\")\n",
    "print(df['locality'].unique())\n",
    "# pincode change required   ******************************************"
   ]
  },
  {
   "cell_type": "code",
   "execution_count": 17,
   "metadata": {},
   "outputs": [
    {
     "name": "stdout",
     "output_type": "stream",
     "text": [
      "count      29681\n",
      "unique         3\n",
      "top       Resale\n",
      "freq       21222\n",
      "Name: neworold, dtype: object\n",
      "\n",
      "\n",
      "['New' 'Resale' 'neworold' nan]\n"
     ]
    }
   ],
   "source": [
    "# one hot encoding\n",
    "print(df['neworold'].describe())           #All present\n",
    "print(\"\\n\")\n",
    "print(df['neworold'].unique())"
   ]
  },
  {
   "cell_type": "code",
   "execution_count": 18,
   "metadata": {},
   "outputs": [
    {
     "name": "stdout",
     "output_type": "stream",
     "text": [
      "count     8438\n",
      "unique       5\n",
      "top          1\n",
      "freq      3191\n",
      "Name: opensides, dtype: object\n",
      "\n",
      "\n",
      "['2' nan '3' '1' '4' 'opensides']\n"
     ]
    }
   ],
   "source": [
    "#done\n",
    "# numeric woould be good\n",
    "print(df['opensides'].describe())              # take away : here replace Nan with 1\n",
    "print(\"\\n\")\n",
    "print(df['opensides'].unique())\n",
    "\n",
    "counter = 0\n",
    "for row in df.itertuples():                 \n",
    "    if  df.iloc[counter]['opensides'] is pd.np.nan:\n",
    "        df.set_value(counter,'opensides','1') \n",
    "    counter += 1\n",
    "#print(df['opensides'])"
   ]
  },
  {
   "cell_type": "code",
   "execution_count": 19,
   "metadata": {},
   "outputs": [
    {
     "name": "stdout",
     "output_type": "stream",
     "text": [
      "count           13560\n",
      "unique             16\n",
      "top       Garden View\n",
      "freq             3442\n",
      "Name: overlooking, dtype: object\n",
      "\n",
      "\n",
      "['Road View' nan 'Garden View, Pool View, Road View'\n",
      " 'Corner, Garden View, Road View' 'Road View, Garden View'\n",
      " 'Corner, Garden View, Pool View, Road View' 'Corner' 'Corner, Garden View'\n",
      " 'Road View, Corner' 'Garden View' 'Pool View, Garden View'\n",
      " 'Corner, Pool View, Road View' 'Pool View' 'Road View, Pool View'\n",
      " 'Pool View, Corner' 'overlooking' 'Corner, Garden View, Pool View']\n"
     ]
    }
   ],
   "source": [
    "#binary or one hot\n",
    "print(df['overlooking'].describe())              # take away : here replace Nan with random\n",
    "print(\"\\n\")\n",
    "print(df['overlooking'].unique())\n",
    "\n",
    "counter = 0\n",
    "for row in df.itertuples():                 \n",
    "    if  df.iloc[counter]['overlooking'] is pd.np.nan:\n",
    "        df.set_value(counter,'overlooking','Random') \n",
    "    counter += 1\n",
    "#print(df['overlooking'])"
   ]
  },
  {
   "cell_type": "code",
   "execution_count": 20,
   "metadata": {},
   "outputs": [
    {
     "name": "stdout",
     "output_type": "stream",
     "text": [
      "count        22802\n",
      "unique           5\n",
      "top       Freehold\n",
      "freq         20734\n",
      "Name: ownership, dtype: object\n",
      "\n",
      "\n",
      "['Co-Operative Society' 'Freehold' nan 'Power of Attorney' 'ownership'\n",
      " 'Leasehol']\n"
     ]
    }
   ],
   "source": [
    "# one hot encoding\n",
    "print(df['ownership'].describe())               # take away : here replace Nan with Random\n",
    "print(\"\\n\")\n",
    "print(df['ownership'].unique())\n",
    "\n",
    "counter = 0\n",
    "for row in df.itertuples():                 \n",
    "    if  df.iloc[counter]['ownership'] is pd.np.nan:\n",
    "        df.set_value(counter,'ownership','Random') \n",
    "    counter += 1\n",
    "#print(df['ownership'])\n",
    "\n",
    "#  drop this "
   ]
  },
  {
   "cell_type": "code",
   "execution_count": 21,
   "metadata": {},
   "outputs": [
    {
     "name": "stdout",
     "output_type": "stream",
     "text": [
      "count         3450\n",
      "unique          52\n",
      "top       Dec 2018\n",
      "freq          1048\n",
      "Name: possesiondate, dtype: object\n",
      "\n",
      "\n",
      "[nan 'Nov 2019' 'Mar 2018' 'Dec 2018' 'Dec 2019' 'Jul 2019' 'Dec 2020'\n",
      " 'Dec 2021' 'Sep 2018' 'Jun 2018' 'Apr 2019' 'Apr 2018' 'Aug 2018'\n",
      " 'Sep 2020' 'Dec 2025' 'Oct 2018' 'Mar 2020' 'Mar 2019' 'Jul 2018'\n",
      " 'Jun 2019' 'Nov 2018' 'Aug 2020' 'Dec 2022' 'Sep 2019' 'May 2019'\n",
      " 'May 2018' 'Feb 2019' 'Jan 2019' 'Jan 2018' 'Feb 2018' 'Feb 2020'\n",
      " 'possesiondate' 'Sep 2021' 'Aug 2019' 'Oct 2019' 'Jun 2021' 'Oct 2022'\n",
      " 'Jun 2020' 'Mar 2021' 'Nov 2021' 'Sep 2022' 'Jul 2020' 'Nov 2020'\n",
      " 'Dec 2023' 'Oct 2021' 'Jul 2021' 'Jan 2020' 'Feb 2021' 'May 2020'\n",
      " 'Aug 2021' 'Feb 2022' 'Mar 2022' 'May 2021']\n"
     ]
    }
   ],
   "source": [
    "# binary \n",
    "print(df['possesiondate'].describe())            # take away : here replace Nan with Now\n",
    "print(\"\\n\")\n",
    "print(df['possesiondate'].unique())\n",
    "\n",
    "counter = 0\n",
    "for row in df.itertuples():                 \n",
    "    if  df.iloc[counter]['possesiondate'] is pd.np.nan:\n",
    "        df.set_value(counter,'possesiondate','Now') \n",
    "    counter += 1\n",
    "#print(df['possesiondate'])"
   ]
  },
  {
   "cell_type": "code",
   "execution_count": 22,
   "metadata": {},
   "outputs": [
    {
     "name": "stdout",
     "output_type": "stream",
     "text": [
      "count       29681\n",
      "unique       3342\n",
      "top       7500000\n",
      "freq          637\n",
      "Name: price, dtype: object\n",
      "\n",
      "\n",
      "['27000000' '7610050' '4100000' ..., '1665000' '1710000' '1755000']\n"
     ]
    }
   ],
   "source": [
    "# target variable\n",
    "print(df['price'].describe())                    #Al present\n",
    "print(\"\\n\")\n",
    "print(df['price'].unique())\n",
    "\n"
   ]
  },
  {
   "cell_type": "code",
   "execution_count": 23,
   "metadata": {},
   "outputs": [
    {
     "name": "stdout",
     "output_type": "stream",
     "text": [
      "count                29681\n",
      "unique                7086\n",
      "top       ₹ 10,000/ sq ft \n",
      "freq                   397\n",
      "Name: pricepersquare, dtype: object\n",
      "\n",
      "\n",
      "['₹ 16,759/ sq ft ' '₹ 5,950/ sq ft ' '₹ 6,119/ sq ft ' ...,\n",
      " '₹ 13,781/ sq ft ' '₹ 10,501/ sq ft ' '₹ 461/ sq ft ']\n"
     ]
    }
   ],
   "source": [
    "# I think it can create data leakage\n",
    "print(df['pricepersquare'].describe())              #All present\n",
    "print(\"\\n\")\n",
    "print(df['pricepersquare'].unique())"
   ]
  },
  {
   "cell_type": "code",
   "execution_count": 24,
   "metadata": {},
   "outputs": [
    {
     "name": "stdout",
     "output_type": "stream",
     "text": [
      "count                           19157\n",
      "unique                           3591\n",
      "top       Builder Luxurious Apartment\n",
      "freq                             1128\n",
      "Name: projectname, dtype: object\n",
      "\n",
      "\n",
      "['Bhansali Prive Rio' 'Goel Ganga Platino' 'Vilas Javdekar Yashwin' ...,\n",
      " 'Surya Blossom N Springs' 'Suraj Mahal' 'Builder kamal bag society']\n"
     ]
    }
   ],
   "source": [
    "# without a doubt binary \n",
    "print(df['projectname'].describe())             # take away : here replace Nan with random\n",
    "print(\"\\n\")\n",
    "print(df['projectname'].unique())\n",
    "\n",
    "counter = 0\n",
    "for row in df.itertuples():                 \n",
    "    if  df.iloc[counter]['projectname'] is pd.np.nan:\n",
    "        df.set_value(counter,'projectname','Random') \n",
    "    counter += 1\n",
    "#print(df['projectname'])\n",
    "# drop this..."
   ]
  },
  {
   "cell_type": "code",
   "execution_count": 25,
   "metadata": {},
   "outputs": [
    {
     "name": "stdout",
     "output_type": "stream",
     "text": [
      "count        5131\n",
      "unique         84\n",
      "top       20 feet\n",
      "freq          722\n",
      "Name: roadfaceing, dtype: object\n",
      "\n",
      "\n",
      "['40 feet' nan '60 feet' '25 feet' '50 feet' '20 feet' '100 feet' '30 feet'\n",
      " '15 feet' '80 feet' '10 feet' '120 feet' '45 feet' '36 feet' '32 feet'\n",
      " '90 feet' '150 feet' '200 feet' '7 feet' '180 feet' '35 feet' '65 feet'\n",
      " '219 feet' '196 feet' '209 feet' 'roadfaceing' '70 feet' '18 feet'\n",
      " '98 feet' '250 feet' '42 feet' '38 feet' '400 feet' '6 feet' '131 feet'\n",
      " '34 feet' '48 feet' '55 feet' '19 feet' '164 feet' '328 feet' '8 feet'\n",
      " '26 feet' '29 feet' '110 feet' '16 feet' '350 feet' '9 feet' '22 feet'\n",
      " '656 feet' '12 feet' '39 feet' '59 feet' '300 feet' '82 feet' '72 feet'\n",
      " '271 feet' '295 feet' '23 feet' '68 feet' '49 feet' '14 feet' '160 feet'\n",
      " '27 feet' '13 feet' '66 feet' '262 feet' '17 feet' '1 feet' '984 feet'\n",
      " '52 feet' '54 feet' '1000 feet' '2 feet' '500 feet' '780 feet' '85 feet'\n",
      " '5 feet' '24 feet' '170 feet' '11 feet' '6561 feet' '492 feet' '190 feet'\n",
      " '114 feet']\n"
     ]
    }
   ],
   "source": [
    "#numeric just drop feet\n",
    "print(df['roadfaceing'].describe())               # take away : here replace Nan with '-999 feet'\n",
    "print(\"\\n\")\n",
    "print(df['roadfaceing'].unique())\n",
    "\n",
    "counter = 0\n",
    "for row in df.itertuples():                 \n",
    "    if  df.iloc[counter]['roadfaceing'] is pd.np.nan:\n",
    "        df.set_value(counter,'roadfaceing','-999 feet') \n",
    "    counter += 1\n",
    "#print(df['roadfaceing'])\n",
    "\n",
    "#Drop  or Normalize"
   ]
  },
  {
   "cell_type": "code",
   "execution_count": 26,
   "metadata": {},
   "outputs": [
    {
     "name": "stdout",
     "output_type": "stream",
     "text": [
      "count                         28850\n",
      "unique                           12\n",
      "top       Ready to move,Unfurnished\n",
      "freq                          13661\n",
      "Name: status, dtype: object\n",
      "\n",
      "\n",
      "['Ready to move' 'Ready to move,Unfurnished' 'Under Construction'\n",
      " 'Ready to move,Furnished' 'Unfurnished' 'Ready to move,Semi-Furnished'\n",
      " 'Under Construction,Semi-Furnished' nan 'Under Construction,Unfurnished'\n",
      " 'Semi-Furnished' 'status' 'Furnished' 'Under Construction,Furnished']\n"
     ]
    }
   ],
   "source": [
    "#one hot or binary\n",
    "print(df['status'].describe())                     # take away : here replace Nan with Ready to move\n",
    "print(\"\\n\")\n",
    "print(df['status'].unique())\n",
    "\n",
    "counter = 0\n",
    "for row in df.itertuples():                 \n",
    "    if  df.iloc[counter]['status'] is pd.np.nan:\n",
    "        df.set_value(counter,'status','Ready to move') \n",
    "    counter += 1\n",
    "#print(df['status'])"
   ]
  },
  {
   "cell_type": "code",
   "execution_count": 27,
   "metadata": {},
   "outputs": [
    {
     "name": "stdout",
     "output_type": "stream",
     "text": [
      "count     19408\n",
      "unique       35\n",
      "top          12\n",
      "freq       4109\n",
      "Name: totalfloor, dtype: object\n",
      "\n",
      "\n",
      "['6' nan '9' '10' '15' '27' '5' '12' '21' '3' '4' '13' '23' '24' '16' '31'\n",
      " '14' '19' '22' '18' '7' '2' '11' '20' '1' '8' '25' '28' '34' '30' '17'\n",
      " 'totalfloor' '29' '26' '35' '32']\n"
     ]
    }
   ],
   "source": [
    "#numeric\n",
    "print(df['totalfloor'].describe())               # take away : here replace Nan with Ready to current floor   \n",
    "print(\"\\n\")\n",
    "print(df['totalfloor'].unique())\n",
    "\n",
    "\n",
    "counter = 0\n",
    "for row in df.itertuples():                 \n",
    "    if  df.iloc[counter]['totalfloor'] is pd.np.nan:\n",
    "        df.set_value(counter,'totalfloor',df.iloc[counter]['floor'])\n",
    "    if df.iloc[counter]['totalfloor'] == 'Gr':\n",
    "        df.set_value(counter,'totalfloor','0')       # 0 - Gr\n",
    "    counter += 1\n",
    "#print(df['totalfloor'])"
   ]
  },
  {
   "cell_type": "code",
   "execution_count": 28,
   "metadata": {},
   "outputs": [
    {
     "name": "stdout",
     "output_type": "stream",
     "text": [
      "count     29680\n",
      "unique        2\n",
      "top         Yes\n",
      "freq      23535\n",
      "Name: Lift Available, dtype: object\n",
      "\n",
      "\n",
      "['Yes' 'No' nan]\n"
     ]
    }
   ],
   "source": [
    "#done\n",
    "print(df['Lift Available'].describe())        # take away : here replace Nan with Ready to No   \n",
    "print(\"\\n\")\n",
    "print(df['Lift Available'].unique())\n",
    "\n",
    "\n",
    "counter = 0\n",
    "for row in df.itertuples():                 \n",
    "    if  df.iloc[counter]['Lift Available'] is pd.np.nan:\n",
    "        df.set_value(counter,'Lift Available','No') \n",
    "    counter += 1\n",
    "#print(df['Lift Available'])"
   ]
  },
  {
   "cell_type": "code",
   "execution_count": 29,
   "metadata": {},
   "outputs": [
    {
     "name": "stdout",
     "output_type": "stream",
     "text": [
      "count     25385\n",
      "unique        1\n",
      "top         Yes\n",
      "freq      25385\n",
      "Name: Car Parking, dtype: object\n",
      "\n",
      "\n",
      "['Yes' nan]\n"
     ]
    }
   ],
   "source": [
    "#done\n",
    "print(df['Car Parking'].describe())                # take away : here replace Nan with No\n",
    "print(\"\\n\")\n",
    "print(df['Car Parking'].unique())\n",
    "\n",
    "counter = 0\n",
    "for row in df.itertuples():                 \n",
    "    if  df.iloc[counter]['Car Parking'] is pd.np.nan:\n",
    "        df.set_value(counter,'Car Parking','No') \n",
    "    counter += 1\n",
    "#print(df['Car Parking'])"
   ]
  },
  {
   "cell_type": "code",
   "execution_count": 30,
   "metadata": {},
   "outputs": [
    {
     "name": "stdout",
     "output_type": "stream",
     "text": [
      "count     29680\n",
      "unique        2\n",
      "top         Yes\n",
      "freq      23551\n",
      "Name: Power Backup, dtype: object\n",
      "\n",
      "\n",
      "['Yes' 'No' nan]\n"
     ]
    }
   ],
   "source": [
    "#done\n",
    "print(df['Power Backup'].describe())               # take away : here replace Nan with No\n",
    "print(\"\\n\")\n",
    "print(df['Power Backup'].unique())\n",
    "\n",
    "counter = 0\n",
    "for row in df.itertuples():                 \n",
    "    if  df.iloc[counter]['Power Backup'] is pd.np.nan:\n",
    "        df.set_value(counter,'Power Backup','No') \n",
    "    counter += 1\n",
    "#print(df['Power Backup'])"
   ]
  },
  {
   "cell_type": "code",
   "execution_count": 33,
   "metadata": {},
   "outputs": [
    {
     "name": "stdout",
     "output_type": "stream",
     "text": [
      "count     29682\n",
      "unique        2\n",
      "top         Yes\n",
      "freq      24781\n",
      "Name: 24 X 7 Security, dtype: object\n",
      "\n",
      "\n",
      "['No' 'Yes']\n"
     ]
    }
   ],
   "source": [
    "#done\n",
    "print(df['24 X 7 Security'].describe())            # take away : here replace Nan with No\n",
    "print(\"\\n\")\n",
    "print(df['24 X 7 Security'].unique())\n",
    "\n",
    "counter = 0\n",
    "for row in df.itertuples():                 \n",
    "    if  df.iloc[counter]['24 X 7 Security'] is pd.np.nan:\n",
    "        df.set_value(counter,'24 X 7 Security','No') \n",
    "    counter += 1\n",
    "#print(df['24 X 7 Security'])"
   ]
  },
  {
   "cell_type": "code",
   "execution_count": 34,
   "metadata": {},
   "outputs": [
    {
     "name": "stdout",
     "output_type": "stream",
     "text": [
      "count     29682\n",
      "unique        2\n",
      "top         Yes\n",
      "freq      15161\n",
      "Name: Children's play area, dtype: object\n",
      "\n",
      "\n",
      "['No' 'Yes']\n"
     ]
    }
   ],
   "source": [
    "#done\n",
    "print(df['Children\\'s play area'].describe())          # take away : here replace Nan with No\n",
    "print(\"\\n\")\n",
    "print(df['Children\\'s play area'].unique())\n",
    "\n",
    "counter = 0\n",
    "for row in df.itertuples():                 \n",
    "    if  df.iloc[counter]['Children\\'s play area'] is pd.np.nan:\n",
    "        df.set_value(counter,'Children\\'s play area','No') \n",
    "    counter += 1\n",
    "#print(df['Children\\'s play area'])"
   ]
  },
  {
   "cell_type": "code",
   "execution_count": 35,
   "metadata": {},
   "outputs": [
    {
     "name": "stdout",
     "output_type": "stream",
     "text": [
      "count     17194\n",
      "unique        1\n",
      "top         Yes\n",
      "freq      17194\n",
      "Name: Vaastu Compliant, dtype: object\n",
      "\n",
      "\n",
      "[nan 'Yes']\n"
     ]
    }
   ],
   "source": [
    "#done\n",
    "print(df['Vaastu Compliant'].describe())          # take away : here replace Nan with No\n",
    "print(\"\\n\")\n",
    "print(df['Vaastu Compliant'].unique())\n",
    "\n",
    "counter = 0\n",
    "for row in df.itertuples():                 \n",
    "    if  df.iloc[counter]['Vaastu Compliant'] is pd.np.nan:\n",
    "        df.set_value(counter,'Vaastu Compliant','No') \n",
    "    counter += 1\n",
    "#print(df['Vaastu Compliant'])"
   ]
  },
  {
   "cell_type": "code",
   "execution_count": 36,
   "metadata": {},
   "outputs": [
    {
     "name": "stdout",
     "output_type": "stream",
     "text": [
      "count     29680\n",
      "unique        2\n",
      "top         Yes\n",
      "freq      16633\n",
      "Name: Club House, dtype: object\n",
      "\n",
      "\n",
      "['No' 'Yes' nan]\n"
     ]
    }
   ],
   "source": [
    "#done\n",
    "print(df['Club House'].describe())        # take away : here replace Nan with No      \n",
    "print(\"\\n\")\n",
    "print(df['Club House'].unique())\n",
    "\n",
    "counter = 0\n",
    "for row in df.itertuples():                 \n",
    "    if  df.iloc[counter]['Club House'] is pd.np.nan:\n",
    "        df.set_value(counter,'Club House','No') \n",
    "    counter += 1\n",
    "#print(df['Club House'])"
   ]
  },
  {
   "cell_type": "code",
   "execution_count": 37,
   "metadata": {},
   "outputs": [
    {
     "name": "stdout",
     "output_type": "stream",
     "text": [
      "count     29680\n",
      "unique        2\n",
      "top         Yes\n",
      "freq      17822\n",
      "Name: Gymnasium, dtype: object\n",
      "\n",
      "\n",
      "['No' 'Yes' nan]\n"
     ]
    }
   ],
   "source": [
    "#done\n",
    "print(df['Gymnasium'].describe())       # take away : here replace Nan with No  \n",
    "print(\"\\n\")\n",
    "print(df['Gymnasium'].unique())\n",
    "\n",
    "counter = 0\n",
    "for row in df.itertuples():                 \n",
    "    if  df.iloc[counter]['Gymnasium'] is pd.np.nan:\n",
    "        df.set_value(counter,'Gymnasium','No') \n",
    "    counter += 1\n",
    "#print(df['Gymnasium'])"
   ]
  },
  {
   "cell_type": "code",
   "execution_count": 38,
   "metadata": {},
   "outputs": [
    {
     "name": "stdout",
     "output_type": "stream",
     "text": [
      "count     18592\n",
      "unique        1\n",
      "top         Yes\n",
      "freq      18592\n",
      "Name: Swimming Pool, dtype: object\n",
      "\n",
      "\n",
      "[nan 'Yes']\n"
     ]
    }
   ],
   "source": [
    "#done\n",
    "print(df['Swimming Pool'].describe())       # take away : here replace Nan with No\n",
    "print(\"\\n\")\n",
    "print(df['Swimming Pool'].unique())\n",
    "\n",
    "counter = 0\n",
    "for row in df.itertuples():                 \n",
    "    if  df.iloc[counter]['Swimming Pool'] is pd.np.nan:\n",
    "        df.set_value(counter,'Swimming Pool','No') \n",
    "    counter += 1\n",
    "#print(df['Swimming Pool'])"
   ]
  },
  {
   "cell_type": "code",
   "execution_count": 39,
   "metadata": {},
   "outputs": [
    {
     "name": "stdout",
     "output_type": "stream",
     "text": [
      "count     29680\n",
      "unique        2\n",
      "top          No\n",
      "freq      24415\n",
      "Name: Sports Facility, dtype: object\n",
      "\n",
      "\n",
      "['No' 'Yes' nan]\n"
     ]
    }
   ],
   "source": [
    "#done\n",
    "print(df['Sports Facility'].describe())            # take away : here replace Nan with No\n",
    "print(\"\\n\")\n",
    "print(df['Sports Facility'].unique())\n",
    "\n",
    "counter = 0\n",
    "for row in df.itertuples():                 \n",
    "    if  df.iloc[counter]['Sports Facility'] is pd.np.nan:\n",
    "        df.set_value(counter,'Sports Facility','No') \n",
    "    counter += 1\n",
    "#print(df['Sports Facility'])"
   ]
  },
  {
   "cell_type": "code",
   "execution_count": 40,
   "metadata": {},
   "outputs": [
    {
     "name": "stdout",
     "output_type": "stream",
     "text": [
      "count     6236\n",
      "unique       1\n",
      "top        Yes\n",
      "freq      6236\n",
      "Name: Indoor Games, dtype: object\n",
      "\n",
      "\n",
      "['Yes' nan]\n"
     ]
    }
   ],
   "source": [
    "#done\n",
    "print(df['Indoor Games'].describe())        # take away : here replace Nan with No\n",
    "print(\"\\n\")\n",
    "print(df['Indoor Games'].unique())\n",
    "\n",
    "counter = 0\n",
    "for row in df.itertuples():                 \n",
    "    if  df.iloc[counter]['Indoor Games'] is pd.np.nan:\n",
    "        df.set_value(counter,'Indoor Games','No') \n",
    "    counter += 1\n",
    "#print(df['Indoor Games'])"
   ]
  },
  {
   "cell_type": "code",
   "execution_count": 41,
   "metadata": {},
   "outputs": [
    {
     "name": "stdout",
     "output_type": "stream",
     "text": [
      "count     29680\n",
      "unique        2\n",
      "top         Yes\n",
      "freq      17765\n",
      "Name: Jogging Track, dtype: object\n",
      "\n",
      "\n",
      "['No' 'Yes' nan]\n"
     ]
    }
   ],
   "source": [
    "#done\n",
    "print(df['Jogging Track'].describe())            # take away : here replace Nan with No\n",
    "print(\"\\n\")\n",
    "print(df['Jogging Track'].unique())\n",
    "\n",
    "counter = 0\n",
    "for row in df.itertuples():                 \n",
    "    if  df.iloc[counter]['Jogging Track'] is pd.np.nan:\n",
    "        df.set_value(counter,'Jogging Track','No') \n",
    "    counter += 1\n",
    "#print(df['Jogging Track'])"
   ]
  },
  {
   "cell_type": "code",
   "execution_count": 42,
   "metadata": {},
   "outputs": [
    {
     "name": "stdout",
     "output_type": "stream",
     "text": [
      "count     7281\n",
      "unique       1\n",
      "top        Yes\n",
      "freq      7281\n",
      "Name: Maintenance Staff, dtype: object\n",
      "\n",
      "\n",
      "[nan 'Yes']\n"
     ]
    }
   ],
   "source": [
    "#done\n",
    "print(df['Maintenance Staff'].describe())       # take away : here replace Nan with No\n",
    "print(\"\\n\")\n",
    "print(df['Maintenance Staff'].unique())\n",
    "\n",
    "counter = 0\n",
    "for row in df.itertuples():                 \n",
    "    if  df.iloc[counter]['Maintenance Staff'] is pd.np.nan:\n",
    "        df.set_value(counter,'Maintenance Staff','No') \n",
    "    counter += 1\n",
    "#print(df['Maintenance Staff'])"
   ]
  },
  {
   "cell_type": "code",
   "execution_count": 43,
   "metadata": {},
   "outputs": [
    {
     "name": "stdout",
     "output_type": "stream",
     "text": [
      "count     8819\n",
      "unique       1\n",
      "top        Yes\n",
      "freq      8819\n",
      "Name: Intercom, dtype: object\n",
      "\n",
      "\n",
      "['Yes' nan]\n"
     ]
    }
   ],
   "source": [
    "#done\n",
    "print(df['Intercom'].describe())             # take away : here replace Nan with No\n",
    "print(\"\\n\")\n",
    "print(df['Intercom'].unique())\n",
    "\n",
    "counter = 0\n",
    "for row in df.itertuples():                 \n",
    "    if  df.iloc[counter]['Intercom'] is pd.np.nan:\n",
    "        df.set_value(counter,'Intercom','No') \n",
    "    counter += 1\n",
    "#print(df['Intercom'])"
   ]
  },
  {
   "cell_type": "code",
   "execution_count": 44,
   "metadata": {},
   "outputs": [
    {
     "name": "stdout",
     "output_type": "stream",
     "text": [
      "count     1016\n",
      "unique       1\n",
      "top        Yes\n",
      "freq      1016\n",
      "Name: Golf Course, dtype: object\n",
      "\n",
      "\n",
      "[nan 'Yes']\n"
     ]
    }
   ],
   "source": [
    "#done\n",
    "print(df['Golf Course'].describe())            # take away : here replace Nan with No\n",
    "print(\"\\n\")\n",
    "print(df['Golf Course'].unique())\n",
    "\n",
    "counter = 0\n",
    "for row in df.itertuples():                 \n",
    "    if  df.iloc[counter]['Golf Course'] is pd.np.nan:\n",
    "        df.set_value(counter,'Golf Course','No') \n",
    "    counter += 1\n",
    "#print(df['Golf Course'])"
   ]
  },
  {
   "cell_type": "code",
   "execution_count": 45,
   "metadata": {},
   "outputs": [
    {
     "name": "stdout",
     "output_type": "stream",
     "text": [
      "count     2169\n",
      "unique       1\n",
      "top        Yes\n",
      "freq      2169\n",
      "Name: Cafeteria, dtype: object\n",
      "\n",
      "\n",
      "[nan 'Yes']\n"
     ]
    }
   ],
   "source": [
    "#done\n",
    "print(df['Cafeteria'].describe())                # take away : here replace Nan with No\n",
    "print(\"\\n\")\n",
    "print(df['Cafeteria'].unique())\n",
    "\n",
    "counter = 0\n",
    "for row in df.itertuples():                 \n",
    "    if  df.iloc[counter]['Cafeteria'] is pd.np.nan:\n",
    "        df.set_value(counter,'Cafeteria','No') \n",
    "    counter += 1\n",
    "#print(df['Cafeteria'])"
   ]
  },
  {
   "cell_type": "code",
   "execution_count": 46,
   "metadata": {},
   "outputs": [
    {
     "name": "stdout",
     "output_type": "stream",
     "text": [
      "count     16117\n",
      "unique        1\n",
      "top         Yes\n",
      "freq      16117\n",
      "Name: Rain Water Harvesting, dtype: object\n",
      "\n",
      "\n",
      "[nan 'Yes']\n"
     ]
    }
   ],
   "source": [
    "#done\n",
    "print(df['Rain Water Harvesting'].describe())        # take away : here replace Nan with No\n",
    "print(\"\\n\")\n",
    "print(df['Rain Water Harvesting'].unique())\n",
    "\n",
    "counter = 0\n",
    "for row in df.itertuples():                 \n",
    "    if  df.iloc[counter]['Rain Water Harvesting'] is pd.np.nan:\n",
    "        df.set_value(counter,'Rain Water Harvesting','No') \n",
    "    counter += 1\n",
    "#print(df['Rain Water Harvesting'])"
   ]
  },
  {
   "cell_type": "code",
   "execution_count": 47,
   "metadata": {},
   "outputs": [
    {
     "name": "stdout",
     "output_type": "stream",
     "text": [
      "count     10098\n",
      "unique        1\n",
      "top         Yes\n",
      "freq      10098\n",
      "Name: Staff Quarter, dtype: object\n",
      "\n",
      "\n",
      "[nan 'Yes']\n"
     ]
    }
   ],
   "source": [
    "#done\n",
    "print(df['Staff Quarter'].describe())         # take away : here replace Nan with No\n",
    "print(\"\\n\")\n",
    "print(df['Staff Quarter'].unique())\n",
    "\n",
    "counter = 0\n",
    "for row in df.itertuples():                 \n",
    "    if  df.iloc[counter]['Staff Quarter'] is pd.np.nan:\n",
    "        df.set_value(counter,'Staff Quarter','No') \n",
    "    counter += 1\n",
    "#print(df['Staff Quarter'])"
   ]
  },
  {
   "cell_type": "code",
   "execution_count": 48,
   "metadata": {},
   "outputs": [
    {
     "name": "stdout",
     "output_type": "stream",
     "text": [
      "count     6923\n",
      "unique       1\n",
      "top        Yes\n",
      "freq      6923\n",
      "Name: Multipurpose Room, dtype: object\n",
      "\n",
      "\n",
      "[nan 'Yes']\n"
     ]
    }
   ],
   "source": [
    "#done\n",
    "print(df['Multipurpose Room'].describe())       # take away : here replace Nan with No\n",
    "print(\"\\n\")\n",
    "print(df['Multipurpose Room'].unique())\n",
    "\n",
    "counter = 0\n",
    "for row in df.itertuples():                 \n",
    "    if  df.iloc[counter]['Multipurpose Room'] is pd.np.nan:\n",
    "        df.set_value(counter,'Multipurpose Room','No') \n",
    "    counter += 1\n",
    "#print(df['Multipurpose Room'])"
   ]
  },
  {
   "cell_type": "code",
   "execution_count": 49,
   "metadata": {},
   "outputs": [
    {
     "name": "stdout",
     "output_type": "stream",
     "text": [
      "count     29680\n",
      "unique        2\n",
      "top         Yes\n",
      "freq      15187\n",
      "Name: Landscaped Gardens, dtype: object\n",
      "\n",
      "\n",
      "['Yes' 'No' nan]\n"
     ]
    }
   ],
   "source": [
    "#done\n",
    "print(df['Landscaped Gardens'].describe())       # take away : here replace Nan with No\n",
    "print(\"\\n\")\n",
    "print(df['Landscaped Gardens'].unique())\n",
    "\n",
    "counter = 0\n",
    "for row in df.itertuples():                 \n",
    "    if  df.iloc[counter]['Landscaped Gardens'] is pd.np.nan:\n",
    "        df.set_value(counter,'Landscaped Gardens','No') \n",
    "    counter += 1\n",
    "#print(df['Landscaped Gardens'])"
   ]
  },
  {
   "cell_type": "code",
   "execution_count": 50,
   "metadata": {},
   "outputs": [
    {
     "name": "stdout",
     "output_type": "stream",
     "text": [
      "count     8122\n",
      "unique       1\n",
      "top        Yes\n",
      "freq      8122\n",
      "Name: Shopping Mall, dtype: object\n",
      "\n",
      "\n",
      "[nan 'Yes']\n"
     ]
    }
   ],
   "source": [
    "#done\n",
    "print(df['Shopping Mall'].describe())      # take away : here replace Nan with No\n",
    "print(\"\\n\")\n",
    "print(df['Shopping Mall'].unique())\n",
    "\n",
    "counter = 0\n",
    "for row in df.itertuples():                 \n",
    "    if  df.iloc[counter]['Shopping Mall'] is pd.np.nan:\n",
    "        df.set_value(counter,'Shopping Mall','No') \n",
    "    counter += 1\n",
    "#print(df['Shopping Mall'])"
   ]
  },
  {
   "cell_type": "code",
   "execution_count": 51,
   "metadata": {},
   "outputs": [
    {
     "name": "stdout",
     "output_type": "stream",
     "text": [
      "count     8086\n",
      "unique       1\n",
      "top        Yes\n",
      "freq      8086\n",
      "Name: School, dtype: object\n",
      "\n",
      "\n",
      "[nan 'Yes']\n"
     ]
    }
   ],
   "source": [
    "#done\n",
    "print(df['School'].describe())       # take away : here replace Nan with No\n",
    "print(\"\\n\")\n",
    "print(df['School'].unique())\n",
    "\n",
    "counter = 0\n",
    "for row in df.itertuples():                 \n",
    "    if  df.iloc[counter]['School'] is pd.np.nan:\n",
    "        df.set_value(counter,'School','No') \n",
    "    counter += 1\n",
    "#print(df['School' ])"
   ]
  },
  {
   "cell_type": "code",
   "execution_count": 52,
   "metadata": {},
   "outputs": [
    {
     "name": "stdout",
     "output_type": "stream",
     "text": [
      "count     7999\n",
      "unique       1\n",
      "top        Yes\n",
      "freq      7999\n",
      "Name: Hospital, dtype: object\n",
      "\n",
      "\n",
      "[nan 'Yes']\n"
     ]
    }
   ],
   "source": [
    "#done\n",
    "print(df['Hospital'].describe())    # take away : here replace Nan with No\n",
    "print(\"\\n\")\n",
    "print(df['Hospital'].unique())\n",
    "\n",
    "counter = 0\n",
    "for row in df.itertuples():                 \n",
    "    if  df.iloc[counter]['Hospital'] is pd.np.nan:\n",
    "        df.set_value(counter,'Hospital','No') \n",
    "    counter += 1\n",
    "#print(df['Hospital'])"
   ]
  },
  {
   "cell_type": "code",
   "execution_count": 53,
   "metadata": {},
   "outputs": [
    {
     "name": "stdout",
     "output_type": "stream",
     "text": [
      "count     8381\n",
      "unique       1\n",
      "top        Yes\n",
      "freq      8381\n",
      "Name: ATM, dtype: object\n",
      "\n",
      "\n",
      "[nan 'Yes']\n"
     ]
    }
   ],
   "source": [
    "#done\n",
    "print(df['ATM'].describe())        # take away : here replace Nan with No\n",
    "print(\"\\n\")\n",
    "print(df['ATM'].unique())\n",
    "\n",
    "counter = 0\n",
    "for row in df.itertuples():                 \n",
    "    if  df.iloc[counter]['ATM'] is pd.np.nan:\n",
    "        df.set_value(counter,'ATM','No') \n",
    "    counter += 1\n",
    "#print(df['ATM'])"
   ]
  },
  {
   "cell_type": "code",
   "execution_count": 54,
   "metadata": {},
   "outputs": [
    {
     "name": "stdout",
     "output_type": "stream",
     "text": [
      "count     8200\n",
      "unique       2\n",
      "top         No\n",
      "freq      6593\n",
      "Name: AC, dtype: object\n",
      "\n",
      "\n",
      "['No' nan 'Yes']\n"
     ]
    }
   ],
   "source": [
    "#done\n",
    "print(df['AC'].describe())           # take away : here replace Nan with No\n",
    "print(\"\\n\")\n",
    "print(df['AC'].unique())\n",
    "\n",
    "counter = 0\n",
    "for row in df.itertuples():                 \n",
    "    if  df.iloc[counter]['AC'] is pd.np.nan:\n",
    "        df.set_value(counter,'AC','No') \n",
    "    counter += 1\n",
    "#print(df['AC'])"
   ]
  },
  {
   "cell_type": "code",
   "execution_count": 55,
   "metadata": {},
   "outputs": [
    {
     "name": "stdout",
     "output_type": "stream",
     "text": [
      "count     8200\n",
      "unique       2\n",
      "top         No\n",
      "freq      4177\n",
      "Name: Wardrobe, dtype: object\n",
      "\n",
      "\n",
      "['No' nan 'Yes']\n"
     ]
    }
   ],
   "source": [
    "#done\n",
    "print(df['Wardrobe'].describe())         # take away : here replace Nan with No\n",
    "print(\"\\n\")\n",
    "print(df['Wardrobe'].unique())\n",
    "\n",
    "counter = 0\n",
    "for row in df.itertuples():                 \n",
    "    if  df.iloc[counter]['Wardrobe'] is pd.np.nan:\n",
    "        df.set_value(counter,'Wardrobe','No') \n",
    "    counter += 1\n",
    "#print(df['Wardrobe'])"
   ]
  },
  {
   "cell_type": "code",
   "execution_count": 56,
   "metadata": {},
   "outputs": [
    {
     "name": "stdout",
     "output_type": "stream",
     "text": [
      "count     8200\n",
      "unique       2\n",
      "top         No\n",
      "freq      7101\n",
      "Name: TV, dtype: object\n",
      "\n",
      "\n",
      "['No' nan 'Yes']\n"
     ]
    }
   ],
   "source": [
    "#done\n",
    "print(df['TV'].describe())              # take away : here replace Nan with No\n",
    "print(\"\\n\")\n",
    "print(df['TV'].unique())\n",
    "\n",
    "counter = 0\n",
    "for row in df.itertuples():                 \n",
    "    if  df.iloc[counter]['TV'] is pd.np.nan:\n",
    "        df.set_value(counter,'TV','No') \n",
    "    counter += 1\n",
    "#print(df['TV'])"
   ]
  },
  {
   "cell_type": "code",
   "execution_count": 57,
   "metadata": {},
   "outputs": [
    {
     "name": "stdout",
     "output_type": "stream",
     "text": [
      "count     8200\n",
      "unique       2\n",
      "top         No\n",
      "freq      6391\n",
      "Name: Refrigerator, dtype: object\n",
      "\n",
      "\n",
      "['No' nan 'Yes']\n"
     ]
    }
   ],
   "source": [
    "#done\n",
    "print(df['Refrigerator'].describe())       # take away : here replace Nan with No\n",
    "print(\"\\n\")\n",
    "print(df['Refrigerator'].unique())\n",
    "\n",
    "counter = 0\n",
    "for row in df.itertuples():                 \n",
    "    if  df.iloc[counter]['Refrigerator'] is pd.np.nan:\n",
    "        df.set_value(counter,'Refrigerator','No') \n",
    "    counter += 1\n",
    "#print(df['Refrigerator'])"
   ]
  },
  {
   "cell_type": "code",
   "execution_count": 58,
   "metadata": {},
   "outputs": [
    {
     "name": "stdout",
     "output_type": "stream",
     "text": [
      "count     8200\n",
      "unique       2\n",
      "top         No\n",
      "freq      4525\n",
      "Name: Sofa, dtype: object\n",
      "\n",
      "\n",
      "['No' nan 'Yes']\n"
     ]
    }
   ],
   "source": [
    "#done\n",
    "print(df['Sofa'].describe())            # take away : here replace Nan with No\n",
    "print(\"\\n\")\n",
    "print(df['Sofa'].unique())\n",
    "\n",
    "counter = 0\n",
    "for row in df.itertuples():                 \n",
    "    if  df.iloc[counter]['Sofa'] is pd.np.nan:\n",
    "        df.set_value(counter,'Sofa','No') \n",
    "    counter += 1\n",
    "#print(df['Sofa'])"
   ]
  },
  {
   "cell_type": "code",
   "execution_count": 59,
   "metadata": {},
   "outputs": [
    {
     "name": "stdout",
     "output_type": "stream",
     "text": [
      "count     1401\n",
      "unique       1\n",
      "top        Yes\n",
      "freq      1401\n",
      "Name: Washing Machine, dtype: object\n",
      "\n",
      "\n",
      "[nan 'Yes']\n"
     ]
    }
   ],
   "source": [
    "#done\n",
    "print(df['Washing Machine'].describe())       # take away : here replace Nan with No\n",
    "print(\"\\n\")\n",
    "print(df['Washing Machine'].unique())\n",
    "\n",
    "counter = 0\n",
    "for row in df.itertuples():                 \n",
    "    if  df.iloc[counter]['Washing Machine'] is pd.np.nan:\n",
    "        df.set_value(counter,'Washing Machine','No') \n",
    "    counter += 1\n",
    "#print(df['Washing Machine'])"
   ]
  },
  {
   "cell_type": "code",
   "execution_count": 60,
   "metadata": {},
   "outputs": [
    {
     "name": "stdout",
     "output_type": "stream",
     "text": [
      "count     8200\n",
      "unique       2\n",
      "top         No\n",
      "freq      7481\n",
      "Name: Wifi, dtype: object\n",
      "\n",
      "\n",
      "['No' nan 'Yes']\n"
     ]
    }
   ],
   "source": [
    "#done\n",
    "print(df['Wifi'].describe())        # take away : here replace Nan with No\n",
    "print(\"\\n\")\n",
    "print(df['Wifi'].unique())\n",
    "\n",
    "counter = 0\n",
    "for row in df.itertuples():                 \n",
    "    if  df.iloc[counter]['Wifi'] is pd.np.nan:\n",
    "        df.set_value(counter,'Wifi','No') \n",
    "    counter += 1\n",
    "#print(df['Wifi'])"
   ]
  },
  {
   "cell_type": "code",
   "execution_count": 61,
   "metadata": {},
   "outputs": [
    {
     "name": "stdout",
     "output_type": "stream",
     "text": [
      "count     350\n",
      "unique      1\n",
      "top       Yes\n",
      "freq      350\n",
      "Name: Microwave, dtype: object\n",
      "\n",
      "\n",
      "[nan 'Yes']\n"
     ]
    }
   ],
   "source": [
    "#done\n",
    "print(df['Microwave'].describe())        # take away : here replace Nan with No\n",
    "print(\"\\n\")\n",
    "print(df['Microwave'].unique())\n",
    "\n",
    "counter = 0\n",
    "for row in df.itertuples():                 \n",
    "    if  df.iloc[counter]['Microwave'] is pd.np.nan:\n",
    "        df.set_value(counter,'Microwave','No') \n",
    "    counter += 1\n",
    "#print(df['Microwave'])"
   ]
  },
  {
   "cell_type": "code",
   "execution_count": 62,
   "metadata": {},
   "outputs": [
    {
     "name": "stdout",
     "output_type": "stream",
     "text": [
      "count     8200\n",
      "unique       2\n",
      "top         No\n",
      "freq      5733\n",
      "Name: Dining Table, dtype: object\n",
      "\n",
      "\n",
      "['No' nan 'Yes']\n"
     ]
    }
   ],
   "source": [
    "#done\n",
    "print(df['Dining Table'].describe())       # take away : here replace Nan with No\n",
    "print(\"\\n\")\n",
    "print(df['Dining Table'].unique())\n",
    "\n",
    "counter = 0\n",
    "for row in df.itertuples():                 \n",
    "    if  df.iloc[counter]['Dining Table'] is pd.np.nan:\n",
    "        df.set_value(counter,'Dining Table','No') \n",
    "    counter += 1\n",
    "#print(df['Dining Table'])"
   ]
  },
  {
   "cell_type": "code",
   "execution_count": 63,
   "metadata": {},
   "outputs": [
    {
     "name": "stdout",
     "output_type": "stream",
     "text": [
      "count     8200\n",
      "unique       2\n",
      "top         No\n",
      "freq      5285\n",
      "Name: Gas connection, dtype: object\n",
      "\n",
      "\n",
      "['Yes' nan 'No']\n"
     ]
    }
   ],
   "source": [
    "#done\n",
    "print(df['Gas connection'].describe())    # take away : here replace Nan with No\n",
    "print(\"\\n\")\n",
    "print(df['Gas connection'].unique())\n",
    "\n",
    "counter = 0\n",
    "for row in df.itertuples():                 \n",
    "    if  df.iloc[counter]['Gas connection'] is pd.np.nan:\n",
    "        df.set_value(counter,'Gas connection','No') \n",
    "    counter += 1\n",
    "#print(df['Gas connection'])"
   ]
  },
  {
   "cell_type": "code",
   "execution_count": 64,
   "metadata": {},
   "outputs": [
    {
     "name": "stdout",
     "output_type": "stream",
     "text": [
      "count     8200\n",
      "unique       2\n",
      "top        Yes\n",
      "freq      4396\n",
      "Name: BED, dtype: object\n",
      "\n",
      "\n",
      "['No' nan 'Yes']\n"
     ]
    }
   ],
   "source": [
    "#done\n",
    "print(df['BED'].describe())           # take away : here replace Nan with No\n",
    "print(\"\\n\")\n",
    "print(df['BED'].unique())\n",
    "\n",
    "counter = 0\n",
    "for row in df.itertuples():                 \n",
    "    if  df.iloc[counter]['BED'] is pd.np.nan:\n",
    "        df.set_value(counter,'BED','No') \n",
    "    counter += 1\n",
    "#print(df['BED'])"
   ]
  },
  {
   "cell_type": "code",
   "execution_count": 65,
   "metadata": {
    "collapsed": true
   },
   "outputs": [],
   "source": [
    "#pd.to_numeric(df.columns)\n",
    "#pd.get_dummies(df)\n",
    "# runs till here without errors"
   ]
  },
  {
   "cell_type": "code",
   "execution_count": 67,
   "metadata": {
    "collapsed": true
   },
   "outputs": [],
   "source": [
    "df.to_pickle(\"understand\")"
   ]
  },
  {
   "cell_type": "code",
   "execution_count": null,
   "metadata": {
    "collapsed": true
   },
   "outputs": [],
   "source": []
  }
 ],
 "metadata": {
  "kernelspec": {
   "display_name": "Python 3",
   "language": "python",
   "name": "python3"
  },
  "language_info": {
   "codemirror_mode": {
    "name": "ipython",
    "version": 3
   },
   "file_extension": ".py",
   "mimetype": "text/x-python",
   "name": "python",
   "nbconvert_exporter": "python",
   "pygments_lexer": "ipython3",
   "version": "3.6.3"
  }
 },
 "nbformat": 4,
 "nbformat_minor": 2
}
