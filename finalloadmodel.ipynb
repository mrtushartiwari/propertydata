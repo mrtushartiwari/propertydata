{
 "cells": [
  {
   "cell_type": "code",
   "execution_count": 1,
   "metadata": {},
   "outputs": [],
   "source": [
    "import time\n",
    "start = time.clock()\n",
    "import pandas as pd\n",
    "from sklearn.externals import joblib"
   ]
  },
  {
   "cell_type": "code",
   "execution_count": 2,
   "metadata": {
    "collapsed": true
   },
   "outputs": [],
   "source": [
    "house_model_DT = joblib.load('DTmodel.pkl')"
   ]
  },
  {
   "cell_type": "code",
   "execution_count": 3,
   "metadata": {
    "collapsed": true
   },
   "outputs": [],
   "source": [
    "house_model_RF = joblib.load('RFmodel.pkl')"
   ]
  },
  {
   "cell_type": "code",
   "execution_count": 4,
   "metadata": {
    "collapsed": true
   },
   "outputs": [],
   "source": [
    "X = pd.read_pickle('X_for_final')"
   ]
  },
  {
   "cell_type": "markdown",
   "metadata": {},
   "source": [
    "## Query based use case"
   ]
  },
  {
   "cell_type": "code",
   "execution_count": 5,
   "metadata": {
    "collapsed": true
   },
   "outputs": [],
   "source": [
    "\n",
    "numeric_col = ['area','bathroom','balconies','Lift Available','Car Parking','Power Backup','24 X 7 Security',\n",
    "          'Children\\'s play area','Vaastu Compliant','Club House','Gymnasium','Swimming Pool','Sports Facility',\n",
    "          'Indoor Games','Jogging Track','Maintenance Staff','Intercom','Golf Course','Cafeteria','Rain Water Harvesting',\n",
    "          'Staff Quarter','Multipurpose Room','Landscaped Gardens','Shopping Mall','School','Hospital','ATM','AC',\n",
    "           'Wardrobe','TV','Refrigerator','Sofa','Washing Machine','Wifi','Microwave','Dining Table','Gas connection',\n",
    "           'BED','pricepersquare','roadfaceing','opensides','totalfloor',]\n",
    "\n",
    "X = X.drop('price',axis = 1)"
   ]
  },
  {
   "cell_type": "code",
   "execution_count": 6,
   "metadata": {
    "collapsed": true
   },
   "outputs": [],
   "source": [
    "#querydf = [area ,bhk, carpetarea, pricepersquare,\n",
    "#           Vaastu_Compliant,locality, neworold,facing, floor,additionalrooms,possesiondate,status]\n",
    "Lift_Available=Car_Parking=Power_Backup= Security=Childrens_play_area=None\n",
    "Vaastu_Compliant=Club_House=Gymnasium=Swimming_Pool=Sports_Facility=None\n",
    "Indoor_Games=Jogging_Track=Maintenance_Staff=Intercom=Golf_Course=None\n",
    "Cafeteria=Rain_Water_Harvesting=Staff_Quarter=Multipurpose_Room=None\n",
    "Landscaped_Gardens=Shopping_Mall=School=Hospital=ATM=AC=Wardrobe=None\n",
    "TV=Refrigerator=Sofa=Washing_Machine=Wifi=Microwave=Dining_Table=None\n",
    "Gas_connection=BED=pricepersquare=roadfaceing=opensides=totalfloor = None"
   ]
  },
  {
   "cell_type": "code",
   "execution_count": 7,
   "metadata": {},
   "outputs": [
    {
     "ename": "JSONDecodeError",
     "evalue": "Extra data: line 1 column 332 (char 331)",
     "output_type": "error",
     "traceback": [
      "\u001b[0;31m---------------------------------------------------------------------------\u001b[0m",
      "\u001b[0;31mJSONDecodeError\u001b[0m                           Traceback (most recent call last)",
      "\u001b[0;32m<ipython-input-7-e77ce2bd2be0>\u001b[0m in \u001b[0;36m<module>\u001b[0;34m()\u001b[0m\n\u001b[1;32m      2\u001b[0m \u001b[0;34m\u001b[0m\u001b[0m\n\u001b[1;32m      3\u001b[0m \u001b[0;32mwith\u001b[0m \u001b[0mopen\u001b[0m\u001b[0;34m(\u001b[0m\u001b[0;34m'data2.json'\u001b[0m\u001b[0;34m)\u001b[0m \u001b[0;32mas\u001b[0m \u001b[0mjson_data\u001b[0m\u001b[0;34m:\u001b[0m\u001b[0;34m\u001b[0m\u001b[0m\n\u001b[0;32m----> 4\u001b[0;31m     \u001b[0mdata2json\u001b[0m \u001b[0;34m=\u001b[0m \u001b[0mjson\u001b[0m\u001b[0;34m.\u001b[0m\u001b[0mload\u001b[0m\u001b[0;34m(\u001b[0m\u001b[0mjson_data\u001b[0m\u001b[0;34m)\u001b[0m\u001b[0;34m\u001b[0m\u001b[0m\n\u001b[0m\u001b[1;32m      5\u001b[0m     \u001b[0mprint\u001b[0m\u001b[0;34m(\u001b[0m\u001b[0mdata2json\u001b[0m\u001b[0;34m[\u001b[0m\u001b[0;34m\"area1\"\u001b[0m\u001b[0;34m]\u001b[0m\u001b[0;34m)\u001b[0m\u001b[0;34m\u001b[0m\u001b[0m\n\u001b[1;32m      6\u001b[0m \u001b[0;34m\u001b[0m\u001b[0m\n",
      "\u001b[0;32m~/anaconda3/lib/python3.6/json/__init__.py\u001b[0m in \u001b[0;36mload\u001b[0;34m(fp, cls, object_hook, parse_float, parse_int, parse_constant, object_pairs_hook, **kw)\u001b[0m\n\u001b[1;32m    297\u001b[0m         \u001b[0mcls\u001b[0m\u001b[0;34m=\u001b[0m\u001b[0mcls\u001b[0m\u001b[0;34m,\u001b[0m \u001b[0mobject_hook\u001b[0m\u001b[0;34m=\u001b[0m\u001b[0mobject_hook\u001b[0m\u001b[0;34m,\u001b[0m\u001b[0;34m\u001b[0m\u001b[0m\n\u001b[1;32m    298\u001b[0m         \u001b[0mparse_float\u001b[0m\u001b[0;34m=\u001b[0m\u001b[0mparse_float\u001b[0m\u001b[0;34m,\u001b[0m \u001b[0mparse_int\u001b[0m\u001b[0;34m=\u001b[0m\u001b[0mparse_int\u001b[0m\u001b[0;34m,\u001b[0m\u001b[0;34m\u001b[0m\u001b[0m\n\u001b[0;32m--> 299\u001b[0;31m         parse_constant=parse_constant, object_pairs_hook=object_pairs_hook, **kw)\n\u001b[0m\u001b[1;32m    300\u001b[0m \u001b[0;34m\u001b[0m\u001b[0m\n\u001b[1;32m    301\u001b[0m \u001b[0;34m\u001b[0m\u001b[0m\n",
      "\u001b[0;32m~/anaconda3/lib/python3.6/json/__init__.py\u001b[0m in \u001b[0;36mloads\u001b[0;34m(s, encoding, cls, object_hook, parse_float, parse_int, parse_constant, object_pairs_hook, **kw)\u001b[0m\n\u001b[1;32m    352\u001b[0m             \u001b[0mparse_int\u001b[0m \u001b[0;32mis\u001b[0m \u001b[0;32mNone\u001b[0m \u001b[0;32mand\u001b[0m \u001b[0mparse_float\u001b[0m \u001b[0;32mis\u001b[0m \u001b[0;32mNone\u001b[0m \u001b[0;32mand\u001b[0m\u001b[0;34m\u001b[0m\u001b[0m\n\u001b[1;32m    353\u001b[0m             parse_constant is None and object_pairs_hook is None and not kw):\n\u001b[0;32m--> 354\u001b[0;31m         \u001b[0;32mreturn\u001b[0m \u001b[0m_default_decoder\u001b[0m\u001b[0;34m.\u001b[0m\u001b[0mdecode\u001b[0m\u001b[0;34m(\u001b[0m\u001b[0ms\u001b[0m\u001b[0;34m)\u001b[0m\u001b[0;34m\u001b[0m\u001b[0m\n\u001b[0m\u001b[1;32m    355\u001b[0m     \u001b[0;32mif\u001b[0m \u001b[0mcls\u001b[0m \u001b[0;32mis\u001b[0m \u001b[0;32mNone\u001b[0m\u001b[0;34m:\u001b[0m\u001b[0;34m\u001b[0m\u001b[0m\n\u001b[1;32m    356\u001b[0m         \u001b[0mcls\u001b[0m \u001b[0;34m=\u001b[0m \u001b[0mJSONDecoder\u001b[0m\u001b[0;34m\u001b[0m\u001b[0m\n",
      "\u001b[0;32m~/anaconda3/lib/python3.6/json/decoder.py\u001b[0m in \u001b[0;36mdecode\u001b[0;34m(self, s, _w)\u001b[0m\n\u001b[1;32m    340\u001b[0m         \u001b[0mend\u001b[0m \u001b[0;34m=\u001b[0m \u001b[0m_w\u001b[0m\u001b[0;34m(\u001b[0m\u001b[0ms\u001b[0m\u001b[0;34m,\u001b[0m \u001b[0mend\u001b[0m\u001b[0;34m)\u001b[0m\u001b[0;34m.\u001b[0m\u001b[0mend\u001b[0m\u001b[0;34m(\u001b[0m\u001b[0;34m)\u001b[0m\u001b[0;34m\u001b[0m\u001b[0m\n\u001b[1;32m    341\u001b[0m         \u001b[0;32mif\u001b[0m \u001b[0mend\u001b[0m \u001b[0;34m!=\u001b[0m \u001b[0mlen\u001b[0m\u001b[0;34m(\u001b[0m\u001b[0ms\u001b[0m\u001b[0;34m)\u001b[0m\u001b[0;34m:\u001b[0m\u001b[0;34m\u001b[0m\u001b[0m\n\u001b[0;32m--> 342\u001b[0;31m             \u001b[0;32mraise\u001b[0m \u001b[0mJSONDecodeError\u001b[0m\u001b[0;34m(\u001b[0m\u001b[0;34m\"Extra data\"\u001b[0m\u001b[0;34m,\u001b[0m \u001b[0ms\u001b[0m\u001b[0;34m,\u001b[0m \u001b[0mend\u001b[0m\u001b[0;34m)\u001b[0m\u001b[0;34m\u001b[0m\u001b[0m\n\u001b[0m\u001b[1;32m    343\u001b[0m         \u001b[0;32mreturn\u001b[0m \u001b[0mobj\u001b[0m\u001b[0;34m\u001b[0m\u001b[0m\n\u001b[1;32m    344\u001b[0m \u001b[0;34m\u001b[0m\u001b[0m\n",
      "\u001b[0;31mJSONDecodeError\u001b[0m: Extra data: line 1 column 332 (char 331)"
     ]
    }
   ],
   "source": [
    "import json\n",
    "\n",
    "with open('data2.json') as json_data:\n",
    "    data2json = json.load(json_data)\n",
    "    print(data2json[\"area1\"])\n",
    "\n",
    "\n",
    "area = int(data2json[\"area1\"])\n",
    "bhk = data2json[\"bhk1\"]\n",
    "carpetarea = int(data2json[\"carpetarea1\"])\n",
    "pricepersquare = int(data2json[\"pricepersquare1\"])\n",
    "Vaastu_Compliant = data2json[\"Vaastu_Compliant1\"]\n",
    "locality = data2json[\"locality1\"]\n",
    "neworold = data2json[\"neworold1\"]\n",
    "facing = data2json[\"facing1\"]\n",
    "floor = int(data2json[\"floor1\"])\n",
    "additionalrooms = data2json[\"additionalrooms1\"]\n",
    "possesiondate = data2json[\"possesiondate1\"]\n",
    "status = data2json[\"status1\"]\n",
    "print(type(carpetarea))    # integer becoming str in json convert them"
   ]
  },
  {
   "cell_type": "code",
   "execution_count": null,
   "metadata": {
    "collapsed": true
   },
   "outputs": [],
   "source": []
  },
  {
   "cell_type": "code",
   "execution_count": null,
   "metadata": {},
   "outputs": [],
   "source": [
    "with open('data3.json') as json_data:\n",
    "    data3json = json.load(json_data)\n",
    "    print(data3json[\"overlooking1\"])\n",
    "bathroom = int(data3json[\"bathroom1\"])\n",
    "balconies = int(data3json[\"balconies1\"])\n",
    "opensides = int(data3json[\"opensides1\"])\n",
    "overlooking = (data3json[\"overlooking1\"])\n",
    "ownership = data3json[\"ownership1\"]\n",
    "roadfaceing = data3json[\"roadfaceing1\"]\n",
    "age = data3json[\"age1\"]\n",
    "totalfloor = int(data3json[\"totalfloor1\"])"
   ]
  },
  {
   "cell_type": "code",
   "execution_count": null,
   "metadata": {},
   "outputs": [],
   "source": [
    "import re\n",
    "roadfaceing = data3json[\"roadfaceing1\"]\n",
    "roadfaceing = re.sub(' feet','',roadfaceing)\n",
    "roadfaceing"
   ]
  },
  {
   "cell_type": "code",
   "execution_count": null,
   "metadata": {},
   "outputs": [],
   "source": [
    "with open('data4.json') as json_data:\n",
    "    data4json = json.load(json_data)\n",
    "    print(data4json[\"Security1\"])\n",
    "Lift_Available = data4json[\"Lift_Available1\"]\n",
    "Car_Parking = data4json[\"Car_Parking1\"]\n",
    "Power_Backup = data4json[\"Power_Backup1\"]\n",
    "Security = data4json[\"Security1\"]\n",
    "Childrens_play_area1 = data4json[\"Childrens_play_area1\"]\n",
    "Club_House = data4json[\"Club_House1\"]\n",
    "Gymnasium = data4json[\"Gymnasium1\"]\n",
    "Swimming_Pool = data4json[\"Swimming_Pool1\"]\n",
    "Sports_Facility = data4json[\"Sports_Facility1\"]\n",
    "Indoor_Games = data4json[\"Indoor_Games1\"]\n",
    "Jogging_Track = data4json[\"Jogging_Track1\"]\n",
    "Maintenance_Staff = data4json[\"Maintenance_Staff1\"]\n",
    "Intercom = data4json[\"Intercom1\"]\n",
    "Golf_Course = data4json[\"Golf_Course1\"]\n",
    "Cafeteria = data4json[\"Cafeteria1\"]\n",
    "Rain_Water_Harvesting = data4json[\"Rain_Water_Harvesting1\"]\n",
    "Staff_Quarter = data4json[\"Staff_Quarter1\"]\n",
    "Multipurpose_Room = data4json[\"Multipurpose_Room1\"]\n",
    "Landscaped_Gardens = data4json[\"Landscaped_Gardens1\"]\n",
    "Shopping_Mall = data4json[\"Shopping_Mall1\"]\n",
    "Washing_Machine = data4json[\"Washing_Machine1\"]\n",
    "Wardrobe = data4json[\"Wardrobe1\"]\n",
    "Gas_connection = data4json[\"Gas_connection1\"]\n",
    "Refrigerator = data4json[\"Refrigerator1\"]\n",
    "Sofa1 = data4json[\"Sofa1\"]\n",
    "AC = data4json[\"AC1\"]\n",
    "TV = data4json[\"TV1\"]\n",
    "wifi = data4json[\"wifi1\"]\n",
    "Microwave = data4json[\"Microwave1\"]\n",
    "Dining_Table = data4json[\"Dining_Table1\"]\n",
    "BED = data4json[\"BED1\"]\n",
    "Shopping_Mall = data4json[\"Shopping_Mall1\"]\n",
    "School = data4json[\"School1\"]\n",
    "Hospital = data4json[\"Hospital1\"]\n",
    "ATM = data4json[\"ATM1\"]"
   ]
  },
  {
   "cell_type": "code",
   "execution_count": null,
   "metadata": {
    "collapsed": true
   },
   "outputs": [],
   "source": [
    "# caught u tushar  \n",
    "# always make a key  a string  in dictonary\n",
    "query = [{'area' : 2500\n",
    ",'bhk' : '3 BHK Apartment'\n",
    ",'carpetarea' : 1000\n",
    ",'pricepersquare' : 8500\n",
    ",'Vaastu_Compliant' : 1\n",
    ",'locality' : 'Lulla Nagar'\n",
    ",'neworold' : 'New'\n",
    ",'facing' : 'NorthEast'\n",
    ",'floor' : 2\n",
    ",'additionalrooms' : '1 rooms( study room )'\n",
    ",'possesiondate' : 'Dec 2018'\n",
    ",'Lift_Available': 'Yes'\n",
    ",'status' : 'Under Construction,Unfurnished'}]"
   ]
  },
  {
   "cell_type": "code",
   "execution_count": null,
   "metadata": {},
   "outputs": [],
   "source": [
    "print(area)"
   ]
  },
  {
   "cell_type": "code",
   "execution_count": null,
   "metadata": {},
   "outputs": [],
   "source": [
    "# This is for features encoded using one hot encoding\n",
    "# bhk,age,locality,neworold,additionalrooms,facing,overlooking,ownership,possesiondate\n",
    "bhk = '3 BHK Apartment'                                  \n",
    "bhk = 'bhk_' + bhk + ' '                                    #done\n",
    "locality = 'Aditya Birla Hospital Marg'\n",
    "locality = 'locality_' + locality                           #done\n",
    "possesiondate = 'Sep 2021'\n",
    "possesiondate = 'possesiondate_' + possesiondate            #done\n",
    "age = '10 - 11 years'\n",
    "age = 'age_' + age                                          #done\n",
    "\n",
    "neworold = 'Resale'\n",
    "neworold = 'neworold_' + neworold                           #done\n",
    "additionalrooms = '1 rooms( study room )'\n",
    "additionalrooms = 'additionalrooms_' + additionalrooms        #done\n",
    "facing = 'NorthEast'\n",
    "facing = 'facing_' + facing                                  #done\n",
    "\n",
    "overlooking = 'Corner, Garden View, Pool View'\n",
    "overlooking = 'overlooking_' + overlooking                 #done\n",
    "ownership = 'Co-Operative Society'\n",
    "ownership = 'ownership_' + ownership                    #done\n",
    "facing "
   ]
  },
  {
   "cell_type": "code",
   "execution_count": null,
   "metadata": {
    "collapsed": true
   },
   "outputs": [],
   "source": [
    "if roadfaceing is None:\n",
    "    roadfaceing = 999\n",
    "if opensides is None:\n",
    "    opensides = 1    \n",
    "if totalfloor is None:\n",
    "    totalfloor = 0"
   ]
  },
  {
   "cell_type": "code",
   "execution_count": null,
   "metadata": {},
   "outputs": [],
   "source": [
    "# this cell refer file amenity.py for expanded version of code\n",
    "#bathroom,balconies,pricepersquare,roadfaceing,opensides,totalfloor these are direct numeric values\n",
    "  \n",
    "# for ameineties\n",
    "if Lift_Available is None:\n",
    "    Lift_Available = 0\n",
    "else:\n",
    "    if Lift_Available == 'Yes':\n",
    "        Lift_Available = 1\n",
    "    else:\n",
    "        Lift_Available = 0\n",
    "    \n",
    "if Car_Parking is None:\n",
    "    Car_Parking = 0\n",
    "else:\n",
    "    if Car_Parking == 'Yes':\n",
    "        Car_Parking = 1\n",
    "    else:\n",
    "        Car_Parking = 0\n",
    "\n",
    "if Power_Backup is None:\n",
    "    Power_Backup = 0\n",
    "else:\n",
    "    if Power_Backup == 'Yes':\n",
    "        Power_Backup = 1\n",
    "    else:\n",
    "        Power_Backup = 0\n",
    "\n",
    "if Security is None:\n",
    "    Security = 0\n",
    "else:\n",
    "    if Security == 'Yes':\n",
    "        Security = 1\n",
    "    else:\n",
    "        Security = 0\n",
    "        \n",
    "if Childrens_play_area is None:\n",
    "    Childrens_play_area = 0\n",
    "else:\n",
    "    if Childrens_play_area == 'Yes':\n",
    "        Childrens_play_area = 1\n",
    "    else:\n",
    "        Childrens_play_area = 0\n",
    "\n",
    "if Vaastu_Compliant is None:\n",
    "    Vaastu_Compliant = 0\n",
    "else:\n",
    "    if Vaastu_Compliant == 'Yes':\n",
    "        Vaastu_Compliant = 1\n",
    "    else:\n",
    "        Vaastu_Compliant = 0\n",
    "\n",
    "if Club_House is None:\n",
    "    Club_House = 0\n",
    "else:\n",
    "    if Club_House == 'Yes':\n",
    "        Club_House = 1\n",
    "    else:\n",
    "        Club_House = 0\n",
    "        \n",
    "        \n",
    "if Gymnasium is None:\n",
    "    Gymnasium = 0\n",
    "else:\n",
    "    if Gymnasium == 'Yes':\n",
    "        Gymnasium = 1\n",
    "    else:\n",
    "        Gymnasium = 0\n",
    "        \n",
    "if Swimming_Pool is None:\n",
    "    Swimming_Pool = 0\n",
    "else:\n",
    "    if Swimming_Pool == 'Yes':\n",
    "        Swimming_Pool = 1\n",
    "    else:\n",
    "        Swimming_Pool = 0\n",
    "        \n",
    "if Sports_Facility is None:\n",
    "    Sports_Facility = 0\n",
    "else:\n",
    "    if Sports_Facility == 'Yes':\n",
    "        Sports_Facility = 1\n",
    "    else:\n",
    "        Sports_Facility = 0\n",
    "        \n",
    "if Indoor_Games is None:\n",
    "    Indoor_Games = 0\n",
    "else:\n",
    "    if Indoor_Games == 'Yes':\n",
    "        Indoor_Games = 1\n",
    "    else:\n",
    "        Indoor_Games = 0\n",
    "        \n",
    "if Jogging_Track is None:\n",
    "    Jogging_Track = 0\n",
    "else:\n",
    "    if Jogging_Track == 'Yes':\n",
    "        Jogging_Track = 1\n",
    "    else:\n",
    "        Jogging_Track = 0\n",
    "        \n",
    "if Maintenance_Staff is None:\n",
    "    Maintenance_Staff = 0\n",
    "else:\n",
    "    if Maintenance_Staff == 'Yes':\n",
    "        Maintenance_Staff = 1\n",
    "    else:\n",
    "        Maintenance_Staff = 0\n",
    "        \n",
    "if Intercom is None:\n",
    "    Intercom = 0\n",
    "else:\n",
    "    if Intercom == 'Yes':\n",
    "        Intercom = 1\n",
    "    else:\n",
    "        Intercom = 0\n",
    "        \n",
    "if Golf_Course is None:\n",
    "    Golf_Course = 0\n",
    "else:\n",
    "    if Golf_Course == 'Yes':\n",
    "        Golf_Course = 1\n",
    "    else:\n",
    "        Golf_Course = 0\n",
    "        \n",
    "if Cafeteria is None:\n",
    "    Cafeteria = 0\n",
    "else:\n",
    "    if Cafeteria == 'Yes':\n",
    "        Cafeteria = 1\n",
    "    else:\n",
    "        Cafeteria = 0\n",
    "        \n",
    "if Rain_Water_Harvesting is None:\n",
    "    Rain_Water_Harvesting = 0\n",
    "else:\n",
    "    if Rain_Water_Harvesting == 'Yes':\n",
    "        Rain_Water_Harvesting = 1\n",
    "    else:\n",
    "        Rain_Water_Harvesting = 0\n",
    "        \n",
    "if Staff_Quarter is None:\n",
    "    Staff_Quarter = 0\n",
    "else:\n",
    "    if Staff_Quarter == 'Yes':\n",
    "        Staff_Quarter = 1\n",
    "    else:\n",
    "        Staff_Quarter = 0\n",
    "        \n",
    "if Multipurpose_Room is None:\n",
    "    Multipurpose_Room = 0\n",
    "else:\n",
    "    if Multipurpose_Room == 'Yes':\n",
    "        Multipurpose_Room = 1\n",
    "    else:\n",
    "        Multipurpose_Room = 0\n",
    "        \n",
    "if Landscaped_Gardens is None:\n",
    "    Landscaped_Gardens = 0\n",
    "else:\n",
    "    if Landscaped_Gardens == 'Yes':\n",
    "        Landscaped_Gardens = 1\n",
    "    else:\n",
    "        Landscaped_Gardens = 0\n",
    "        \n",
    "if Shopping_Mall is None:\n",
    "    Shopping_Mall = 0\n",
    "else:\n",
    "    if Shopping_Mall == 'Yes':\n",
    "        Shopping_Mall = 1\n",
    "    else:\n",
    "        Shopping_Mall = 0\n",
    "        \n",
    "if School is None:\n",
    "    School = 0\n",
    "else:\n",
    "    if School == 'Yes':\n",
    "        School = 1\n",
    "    else:\n",
    "        School = 0\n",
    "        \n",
    "if Hospital is None:\n",
    "    Hospital = 0\n",
    "else:\n",
    "    if Hospital == 'Yes':\n",
    "        Hospital = 1\n",
    "    else:\n",
    "        Hospital = 0\n",
    "        \n",
    "if ATM is None:\n",
    "    ATM = 0\n",
    "else:\n",
    "    if ATM == 'Yes':\n",
    "        ATM = 1\n",
    "    else:\n",
    "        ATM = 0\n",
    "        \n",
    "if AC is None:\n",
    "    AC = 0\n",
    "else:\n",
    "    if AC == 'Yes':\n",
    "        AC = 1\n",
    "    else:\n",
    "        AC = 0\n",
    "        \n",
    "if Wardrobe is None:\n",
    "    Wardrobe = 0\n",
    "else:\n",
    "    if Wardrobe == 'Yes':\n",
    "        Wardrobe = 1\n",
    "    else:\n",
    "        Wardrobe = 0\n",
    "        \n",
    "if TV is None:\n",
    "    TV = 0\n",
    "else:\n",
    "    if TV == 'Yes':\n",
    "        TV = 1\n",
    "    else:\n",
    "        TV = 0\n",
    "        \n",
    "if Refrigerator is None:\n",
    "    Refrigerator = 0\n",
    "else:\n",
    "    if Refrigerator == 'Yes':\n",
    "        Refrigerator = 1\n",
    "    else:\n",
    "        Refrigerator = 0\n",
    "        \n",
    "if Sofa is None:\n",
    "    Sofa = 0\n",
    "else:\n",
    "    if Sofa == 'Yes':\n",
    "        Sofa = 1\n",
    "    else:\n",
    "        Sofa = 0\n",
    "        \n",
    "if Washing_Machine is None:\n",
    "    Washing_Machine = 0\n",
    "else:\n",
    "    if Washing_Machine == 'Yes':\n",
    "        Washing_Machine = 1\n",
    "    else:\n",
    "        Washing_Machine = 0\n",
    "        \n",
    "if Wifi is None:\n",
    "    Wifi = 0\n",
    "else:\n",
    "    if Wifi == 'Yes':\n",
    "        Wifi = 1\n",
    "    else:\n",
    "        Wifi = 0\n",
    "        \n",
    "if Microwave is None:\n",
    "    Microwave = 0\n",
    "else:\n",
    "    if Microwave  == 'Yes':\n",
    "        Microwave  = 1\n",
    "    else:\n",
    "        Microwave  = 0\n",
    "        \n",
    "if Dining_Table is None:\n",
    "    Dining_Table = 0\n",
    "else:\n",
    "    if Dining_Table == 'Yes':\n",
    "        Dining_Table = 1\n",
    "    else:\n",
    "        Dining_Table = 0\n",
    "        \n",
    "if Gas_connection is None:\n",
    "    Gas_connection = 0\n",
    "else:\n",
    "    if Gas_connection == 'Yes':\n",
    "        Gas_connection = 1\n",
    "    else:\n",
    "        Gas_connection = 0\n",
    "        \n",
    "if BED is None:\n",
    "    BED = 0\n",
    "else:\n",
    "    if BED == 'Yes':\n",
    "        BED = 1\n",
    "    else:\n",
    "        BED = 0"
   ]
  },
  {
   "cell_type": "code",
   "execution_count": null,
   "metadata": {
    "collapsed": true
   },
   "outputs": [],
   "source": []
  },
  {
   "cell_type": "code",
   "execution_count": null,
   "metadata": {
    "collapsed": true
   },
   "outputs": [],
   "source": [
    "rowlist =list()\n",
    "for i in range(len(X.columns)):\n",
    "    rowlist.append(0)"
   ]
  },
  {
   "cell_type": "code",
   "execution_count": null,
   "metadata": {},
   "outputs": [],
   "source": [
    "# making new dataframe for query\n",
    "querydf = pd.DataFrame(columns = X.columns)       # clinically done\n",
    "querydf"
   ]
  },
  {
   "cell_type": "code",
   "execution_count": null,
   "metadata": {
    "collapsed": true
   },
   "outputs": [],
   "source": [
    "# just to add an empty row in data frame\n",
    "querydf.loc[0] = rowlist"
   ]
  },
  {
   "cell_type": "code",
   "execution_count": null,
   "metadata": {
    "collapsed": true
   },
   "outputs": [],
   "source": [
    "querydf.loc[0, 'area'] = area\n",
    "querydf.loc[0, 'bathroom'] = bathroom\n",
    "querydf.loc[0, 'pricepersquare'] = pricepersquare\n",
    "querydf.loc[0, 'roadfaceing'] = roadfaceing\n",
    "querydf.loc[0, 'opensides'] = opensides\n",
    "querydf.loc[0, 'totalfloor'] = totalfloor"
   ]
  },
  {
   "cell_type": "code",
   "execution_count": null,
   "metadata": {},
   "outputs": [],
   "source": [
    "querydf.loc[0, 'area'] = area\n",
    "querydf.loc[0, 'bathroom'] = bathroom\n",
    "querydf.loc[0, 'Lift Available'] = Lift_Available\n",
    "querydf.loc[0, 'Car Parking'] = Car_Parking\n",
    "querydf.loc[0, 'Power Backup'] = Power_Backup\n",
    "querydf.loc[0, '24 X 7 Security'] = Security\n",
    "querydf.loc[0, \"Children's play area\"] = Childrens_play_area\n",
    "querydf.loc[0, 'Vaastu Compliant'] = Vaastu_Compliant\n",
    "querydf.loc[0, 'Club House'] = Club_House\n",
    "querydf.loc[0, 'Gymnasium'] = Gymnasium\n",
    "querydf.loc[0, 'Swimming Pool'] = Swimming_Pool\n",
    "querydf.loc[0, 'Car Parking'] = Car_Parking\n",
    "querydf.loc[0, 'Sports Facility'] = Sports_Facility\n",
    "querydf.loc[0, 'Indoor Games'] = Indoor_Games\n",
    "querydf.loc[0, \"Jogging Track\"] = Jogging_Track\n",
    "querydf.loc[0, 'Maintenance Staff'] = Maintenance_Staff\n",
    "\n",
    "querydf.loc[0, 'Intercom'] = Intercom\n",
    "querydf.loc[0, 'Golf Course'] = Golf_Course\n",
    "querydf.loc[0, 'Cafeteria'] = Cafeteria\n",
    "querydf.loc[0, 'Car Parking'] = Car_Parking\n",
    "querydf.loc[0, 'Rain Water Harvesting'] = Rain_Water_Harvesting\n",
    "querydf.loc[0, 'Staff Quarter'] = Staff_Quarter\n",
    "querydf.loc[0, \"Multipurpose Room\"] = Multipurpose_Room\n",
    "querydf.loc[0, 'Vaastu Compliant'] = Vaastu_Compliant\n",
    "querydf.loc[0, 'Landscaped Gardens'] = Landscaped_Gardens\n",
    "querydf.loc[0, 'Shopping Mall'] = Shopping_Mall\n",
    "querydf.loc[0, 'School'] = School\n",
    "querydf.loc[0, 'Hospital'] = Hospital\n",
    "querydf.loc[0, 'ATM'] = ATM\n",
    "querydf.loc[0, 'AC'] = AC\n",
    "querydf.loc[0, \"Wardrobe\"] = Wardrobe\n",
    "querydf.loc[0, 'TV'] = TV\n",
    "\n",
    "querydf.loc[0, 'Refrigerator'] = Refrigerator\n",
    "querydf.loc[0, 'Sofa'] = Sofa\n",
    "querydf.loc[0, 'Washing Machine'] = Washing_Machine\n",
    "querydf.loc[0, 'Wifi'] = Wifi\n",
    "querydf.loc[0, 'Microwave'] = Microwave\n",
    "querydf.loc[0, 'Dining Table'] = Dining_Table\n",
    "querydf.loc[0, \"Gas connection\"] = Gas_connection\n",
    "querydf.loc[0, 'BED'] = BED\n",
    "querydf.loc[0, 'pricepersquare'] = pricepersquare\n",
    "querydf.loc[0, 'roadfaceing'] = roadfaceing\n",
    "querydf.loc[0, 'opensides'] = opensides\n",
    "querydf.loc[0, 'totalfloor'] = totalfloor\n",
    "\n",
    "\n",
    "querydf"
   ]
  },
  {
   "cell_type": "code",
   "execution_count": null,
   "metadata": {
    "collapsed": true
   },
   "outputs": [],
   "source": [
    "if bhk in X:\n",
    "    querydf[bhk] = 1    \n",
    "if possesiondate in X:\n",
    "    querydf[possesiondate] = 1 # Assign that column in X data frame to 1\n",
    "if locality in X:\n",
    "    querydf[locality] = 1 # Assign that column in X data frame to 1\n",
    "if age in X:\n",
    "    querydf[age] = 1 # Assign that column in X data frame to 1\n",
    "if neworold in X:\n",
    "    querydf[neworold] = 1 # Assign that column in X data frame to 1\n",
    "    \n",
    "if additionalrooms in X:\n",
    "    querydf[additionalrooms] = 1 # Assign that column in X data frame to 1\n",
    "if facing in X:\n",
    "    querydf[facing] = 1 # Assign that column in X data frame to 1\n",
    "if overlooking in X:\n",
    "    querydf[overlooking] = 1 # Assign that column in X data frame to 1\n",
    "if ownership in X:\n",
    "    querydf[ownership] = 1 # Assign that column in X data frame to 1\n",
    "    \n",
    "    "
   ]
  },
  {
   "cell_type": "code",
   "execution_count": null,
   "metadata": {
    "collapsed": true
   },
   "outputs": [],
   "source": [
    "#df.columns\n",
    "#X = df2[price_predictors]"
   ]
  },
  {
   "cell_type": "code",
   "execution_count": null,
   "metadata": {},
   "outputs": [],
   "source": [
    "val_predictions = house_model_DT.predict(querydf)\n",
    "val_predictions"
   ]
  },
  {
   "cell_type": "code",
   "execution_count": null,
   "metadata": {},
   "outputs": [],
   "source": [
    "val_predictions = house_model_RF.predict(querydf)\n",
    "val_predictions"
   ]
  },
  {
   "cell_type": "code",
   "execution_count": null,
   "metadata": {
    "collapsed": true
   },
   "outputs": [],
   "source": [
    "result = int(val_predictions)\n",
    "with open('result.json', 'w+') as outfile:\n",
    "    json.dump(result, outfile)"
   ]
  },
  {
   "cell_type": "code",
   "execution_count": null,
   "metadata": {},
   "outputs": [],
   "source": [
    "result"
   ]
  },
  {
   "cell_type": "code",
   "execution_count": null,
   "metadata": {},
   "outputs": [],
   "source": [
    "print(time.clock() - start)"
   ]
  }
 ],
 "metadata": {
  "kernelspec": {
   "display_name": "Python 3",
   "language": "python",
   "name": "python3"
  },
  "language_info": {
   "codemirror_mode": {
    "name": "ipython",
    "version": 3
   },
   "file_extension": ".py",
   "mimetype": "text/x-python",
   "name": "python",
   "nbconvert_exporter": "python",
   "pygments_lexer": "ipython3",
   "version": "3.6.3"
  }
 },
 "nbformat": 4,
 "nbformat_minor": 2
}
